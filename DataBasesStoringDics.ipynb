{
 "cells": [
  {
   "cell_type": "code",
   "execution_count": 6,
   "id": "de0ab84c",
   "metadata": {},
   "outputs": [
    {
     "name": "stdout",
     "output_type": "stream",
     "text": [
      "Enter your Employee IDMaster\n",
      "Enter your nameSohail\n"
     ]
    }
   ],
   "source": [
    "import pandas as pd\n",
    "import csv\n",
    "student_record =[\n",
    "    {\n",
    "        'id' : 1,\n",
    "        'Name' : 'Sohail',\n",
    "        'fname' : 'Qamar',\n",
    "        'Edu' : 'Master'\n",
    "    },\n",
    "    {\n",
    "        'id' : 2,\n",
    "        'Name' : 'DANYAL',\n",
    "        'fname' : 'QAMAR',\n",
    "        'Edu' : 'Master'\n",
    "    }\n",
    "    \n",
    "] \n",
    "_details = []\n",
    "id = input('Enter your Employee ID')\n",
    "name = input('Enter your name')\n",
    "for i in student_record:\n",
    "    \n",
    "    if i['Edu'] == id and i['Name'] == name:\n",
    "        with open('details.csv', 'w') as csvfile:\n",
    "            write = csv.writer(csvfile)\n",
    "            for k,v in i.items():\n",
    "                \n",
    "                write.writerow([f'{k} = {v}'])\n",
    "#         for k,v in i.items():\n",
    "#             data = k,v\n",
    "#             n_data = pd.DataFrame(data)\n",
    "# #             print(data)\n",
    "#             n_data\n",
    "#         print(f'{k} = {v} ')\n",
    "#         print(i)\n",
    "        break\n",
    "    else:\n",
    "        print('No info avaible')\n",
    "# write.writerow('************')"
   ]
  },
  {
   "cell_type": "code",
   "execution_count": null,
   "id": "b09824c3",
   "metadata": {},
   "outputs": [],
   "source": []
  }
 ],
 "metadata": {
  "kernelspec": {
   "display_name": "Python 3 (ipykernel)",
   "language": "python",
   "name": "python3"
  },
  "language_info": {
   "codemirror_mode": {
    "name": "ipython",
    "version": 3
   },
   "file_extension": ".py",
   "mimetype": "text/x-python",
   "name": "python",
   "nbconvert_exporter": "python",
   "pygments_lexer": "ipython3",
   "version": "3.9.12"
  }
 },
 "nbformat": 4,
 "nbformat_minor": 5
}
