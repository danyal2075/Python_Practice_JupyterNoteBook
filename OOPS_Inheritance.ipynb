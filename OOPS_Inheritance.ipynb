{
 "cells": [
  {
   "cell_type": "markdown",
   "id": "36a5eacb",
   "metadata": {},
   "source": [
    "# Inhertance\n"
   ]
  },
  {
   "cell_type": "code",
   "execution_count": 39,
   "id": "8ac7a8bc",
   "metadata": {},
   "outputs": [],
   "source": [
    "class Parent():\n",
    "    def __init__(self):\n",
    "        self.id = None\n",
    "        self.name = None\n",
    "        self.fname = None\n",
    "        \n",
    "    def eat(self, food):\n",
    "        self.food = food\n",
    "        return f'{self.name} is eating {self.food}'\n",
    "    def speak(self , word, language = \"Urdu\"):\n",
    "        return f'{word}. language = {language}'\n",
    "\n",
    "class Child(Parent):\n",
    "    pass\n"
   ]
  },
  {
   "cell_type": "code",
   "execution_count": 40,
   "id": "d89bfa33",
   "metadata": {},
   "outputs": [
    {
     "name": "stdout",
     "output_type": "stream",
     "text": [
      "Sohail 15302 Qamar\n",
      "Sohail is eating Pasta\n",
      "KHORo. language = Urdu\n"
     ]
    }
   ],
   "source": [
    "p1 = Parent()\n",
    "p1.id = 15302\n",
    "p1.name = 'Sohail'\n",
    "p1.fname = 'Qamar'\n",
    "\n",
    "\n",
    "\n",
    "print(p1.name, p1.id, p1.fname)\n",
    "print(p1.eat('Pasta'))\n",
    "print(p1.speak('KHORo'))"
   ]
  },
  {
   "cell_type": "code",
   "execution_count": 34,
   "id": "154ac1b3",
   "metadata": {},
   "outputs": [
    {
     "name": "stdout",
     "output_type": "stream",
     "text": [
      "Hamza 15302 Qamar\n",
      "Hamza is eating Pasta\n",
      "KHORo. language = Urdu\n"
     ]
    }
   ],
   "source": [
    "c1 = Child()\n",
    "c1.id = 15302\n",
    "c1.name = 'Hamza'\n",
    "c1.fname = 'Qamar'\n",
    "\n",
    "print(c1.name, c1.id, c1.fname)\n",
    "print(c1.eat('Pasta'))\n",
    "print(c1.speak('KHORo'))"
   ]
  },
  {
   "cell_type": "markdown",
   "id": "89b55a4c",
   "metadata": {},
   "source": [
    "# Inhertance : Adding some extra methods to the child"
   ]
  },
  {
   "cell_type": "code",
   "execution_count": 47,
   "id": "0990b2fb",
   "metadata": {},
   "outputs": [],
   "source": [
    "class Parent():\n",
    "    def __init__(self):\n",
    "        self.id = None\n",
    "        self.name = None\n",
    "        self.fname = None\n",
    "        \n",
    "    def eat(self, food):\n",
    "        return f'{self.name} is eating {food}'\n",
    "    def speak(self , word, language = \"Urdu\"):\n",
    "        return f'{word}. language = {language}'\n",
    "\n",
    "class Child(Parent):\n",
    "    def walk(self, distance):\n",
    "        return f'{self.name} has covered {distance}'\n",
    "    def play(self, game):\n",
    "        return f\"{self.name} is playing {game}\"\n"
   ]
  },
  {
   "cell_type": "code",
   "execution_count": 48,
   "id": "17890b82",
   "metadata": {},
   "outputs": [
    {
     "name": "stdout",
     "output_type": "stream",
     "text": [
      "['eat', 'fname', 'id', 'name', 'speak']\n"
     ]
    }
   ],
   "source": [
    "p1 = Parent()\n",
    "print( [i for i in dir(p1) if '_' not in i])"
   ]
  },
  {
   "cell_type": "code",
   "execution_count": 49,
   "id": "21bba01b",
   "metadata": {},
   "outputs": [
    {
     "name": "stdout",
     "output_type": "stream",
     "text": [
      "['eat', 'fname', 'id', 'name', 'play', 'speak', 'walk']\n"
     ]
    }
   ],
   "source": [
    "c1 = Child()\n",
    "print( [i for i in dir(c1) if '_' not in i])"
   ]
  },
  {
   "cell_type": "code",
   "execution_count": 50,
   "id": "cc68accf",
   "metadata": {},
   "outputs": [
    {
     "name": "stdout",
     "output_type": "stream",
     "text": [
      "Sohail 15302 Qamar\n",
      "Sohail is eating Pasta\n",
      "KHORo. language = Urdu\n"
     ]
    }
   ],
   "source": [
    "p1 = Parent()\n",
    "p1.id = 15302\n",
    "p1.name = 'Sohail'\n",
    "p1.fname = 'Qamar'\n",
    "\n",
    "\n",
    "\n",
    "print(p1.name, p1.id, p1.fname)\n",
    "print(p1.eat('Pasta'))\n",
    "print(p1.speak('KHORo'))"
   ]
  },
  {
   "cell_type": "code",
   "execution_count": 51,
   "id": "c0ed481b",
   "metadata": {},
   "outputs": [
    {
     "name": "stdout",
     "output_type": "stream",
     "text": [
      "Hamza 15302 Qamar\n",
      "Hamza is eating Pasta\n",
      "KHORo. language = Urdu\n",
      "Hamza is playing cricket\n"
     ]
    }
   ],
   "source": [
    "c1 = Child()\n",
    "c1.id = 15302\n",
    "c1.name = 'Hamza'\n",
    "c1.fname = 'Qamar'\n",
    "\n",
    "print(c1.name, c1.id, c1.fname)\n",
    "print(c1.eat('Pasta'))\n",
    "print(c1.speak('KHORo'))\n",
    "print(c1.play('cricket'))"
   ]
  },
  {
   "cell_type": "markdown",
   "id": "e6484088",
   "metadata": {},
   "source": [
    "# Inhertance : Adding some extra Attributes to the child. Parent Class cannot access those attributes."
   ]
  },
  {
   "cell_type": "code",
   "execution_count": 73,
   "id": "f71bdaa3",
   "metadata": {},
   "outputs": [],
   "source": [
    "class Parent():\n",
    "    def __init__(self):\n",
    "        self.id = None\n",
    "        self.name = None\n",
    "        self.fname = None\n",
    "        \n",
    "    def eat(self, food):\n",
    "        return f'{self.name} is eating {food}'\n",
    "    def speak(self , word, language = \"Urdu\"):\n",
    "        return f'{word}. language = {language}'\n",
    "\n",
    "class Child(Parent):\n",
    "    def __init__(self):\n",
    "        super().__init__()\n",
    "        self.education = None\n",
    "        self.computerskill = None\n",
    "              \n",
    "    def walk(self, distance):\n",
    "        return f'{self.name} has covered {distance}'\n",
    "    def play(self, game):\n",
    "        return f\"{self.name} is playing {game}\""
   ]
  },
  {
   "cell_type": "code",
   "execution_count": 74,
   "id": "7e841324",
   "metadata": {},
   "outputs": [
    {
     "name": "stdout",
     "output_type": "stream",
     "text": [
      "['eat', 'fname', 'id', 'name', 'speak']\n",
      "['computerskill', 'eat', 'education', 'fname', 'id', 'name', 'play', 'speak', 'walk']\n"
     ]
    }
   ],
   "source": [
    "p1 = Parent()\n",
    "c1 = Child()\n",
    "print([i for i in dir(p1) if '_' not in i])\n",
    "print([i for i in dir(c1) if '_' not in i])"
   ]
  },
  {
   "cell_type": "code",
   "execution_count": 84,
   "id": "3a80a712",
   "metadata": {},
   "outputs": [
    {
     "name": "stdout",
     "output_type": "stream",
     "text": [
      "15302 Sohail Qamar\n",
      "Sohail is eating Pasta\n",
      "Pakistan. language = Urdu\n"
     ]
    }
   ],
   "source": [
    "p1 = Parent()\n",
    "p1.id = '15302'\n",
    "p1.name = 'Sohail'\n",
    "p1.fname = 'Qamar'\n",
    "# p1.education    # This will create error because this is child Atribute\n",
    "# p1.walk('100KM')  # This will create error because this is child method\n",
    "print(p1.id, p1.name, p1.fname)\n",
    "print(p1.eat('Pasta'))\n",
    "print(p1.speak('Pakistan'))"
   ]
  },
  {
   "cell_type": "code",
   "execution_count": 85,
   "id": "edc7e8fc",
   "metadata": {},
   "outputs": [
    {
     "name": "stdout",
     "output_type": "stream",
     "text": [
      "15303 Hamza Qamar Master High\n",
      "Hamza is eating Pasta\n",
      "Pakistan. language = Urdu\n",
      "Hamza has covered 100 KM\n"
     ]
    }
   ],
   "source": [
    "c1 = Child()\n",
    "c1.id = '15303'\n",
    "c1.name = 'Hamza'\n",
    "c1.fname = 'Qamar'\n",
    "c1.education  = 'Master'\n",
    "c1.computerskill = 'High'\n",
    "print(c1.id, c1.name, c1.fname, c1.education,c1.computerskill)\n",
    "print(c1.eat('Pasta'))\n",
    "print(c1.speak('Pakistan'))\n",
    "print(c1.walk('100 KM'))"
   ]
  },
  {
   "cell_type": "markdown",
   "id": "9d616842",
   "metadata": {},
   "source": [
    "# Multi level Inheritance"
   ]
  },
  {
   "cell_type": "code",
   "execution_count": 104,
   "id": "3f1719ed",
   "metadata": {},
   "outputs": [],
   "source": [
    "class Father():\n",
    "    def __init__(self):\n",
    "        self.name = None\n",
    "        self.fname = None\n",
    "        self.color = 'Whitish'\n",
    "        self.hair_color = 'Brown'\n",
    "        \n",
    "    def speak(self):\n",
    "        return \"hhhhhh\"\n",
    "    \n",
    "class Mother():\n",
    "    def __init__(self):\n",
    "        self.height = '5.8'\n",
    "        self.eye_color = 'White'\n",
    "    def silent(self):\n",
    "        return '.....'\n",
    "    \n",
    "class Child(Father,Mother):\n",
    "    pass\n",
    "        "
   ]
  },
  {
   "cell_type": "markdown",
   "id": "91342c95",
   "metadata": {},
   "source": [
    "# Frist Mother will be called and then Father class. reading starts from  "
   ]
  },
  {
   "cell_type": "code",
   "execution_count": 105,
   "id": "2f400b4a",
   "metadata": {},
   "outputs": [
    {
     "name": "stdout",
     "output_type": "stream",
     "text": [
      "['color', 'fname', 'hair_color', 'name', 'silent', 'speak']\n"
     ]
    }
   ],
   "source": [
    "c1 = Child()\n",
    "print([i for i in dir(c1) if '__' not in i])"
   ]
  },
  {
   "cell_type": "markdown",
   "id": "84ac83d1",
   "metadata": {},
   "source": [
    "Below example is for mother constructor will be called."
   ]
  },
  {
   "cell_type": "code",
   "execution_count": 108,
   "id": "01283dfb",
   "metadata": {},
   "outputs": [],
   "source": [
    "\n",
    "class Father():\n",
    "    def __init__(self):\n",
    "        self.name = None\n",
    "        self.fname = None\n",
    "        self.color = 'Whitish'\n",
    "        self.hair_color = 'Brown'\n",
    "        \n",
    "    def speak(self):\n",
    "        return \"hhhhhh\"\n",
    "    \n",
    "class Mother():\n",
    "    def __init__(self):\n",
    "        self.height = '5.8'\n",
    "        self.eye_color = 'White'\n",
    "    def silent(self):\n",
    "        return '.....'\n",
    "    \n",
    "class Child(Mother, Father):\n",
    "    pass"
   ]
  },
  {
   "cell_type": "code",
   "execution_count": 107,
   "id": "e886c249",
   "metadata": {},
   "outputs": [
    {
     "name": "stdout",
     "output_type": "stream",
     "text": [
      "['eye_color', 'height', 'silent', 'speak']\n"
     ]
    }
   ],
   "source": [
    "c1 = Child()\n",
    "print([i for i in dir(c1) if '__' not in i])"
   ]
  },
  {
   "cell_type": "markdown",
   "id": "a0ca38d8",
   "metadata": {},
   "source": [
    " # Getting both parent class init properties in the child\n",
    " we need to add super.__init__() function in the parent class on the left side in the arg of the child.  "
   ]
  },
  {
   "cell_type": "code",
   "execution_count": 117,
   "id": "d40ad54a",
   "metadata": {},
   "outputs": [],
   "source": [
    "class Father():\n",
    "    def __init__(self):\n",
    "        super().__init__()\n",
    "        self.name = None\n",
    "        self.fname = None\n",
    "        self.color = 'Whitish'\n",
    "        self.hair_color = 'Brown'\n",
    "        \n",
    "    def speak(self):\n",
    "        return \"hhhhhh\"\n",
    "    \n",
    "class Mother():\n",
    "    def __init__(self):\n",
    "#         super().__init__()\n",
    "        self.height = '5.8'\n",
    "        self.eye_color = 'White'\n",
    "    def silent(self):\n",
    "        return '.....'\n",
    "    \n",
    "class Child(Father, Mother ):\n",
    "    pass"
   ]
  },
  {
   "cell_type": "code",
   "execution_count": 118,
   "id": "6c22b894",
   "metadata": {},
   "outputs": [
    {
     "name": "stdout",
     "output_type": "stream",
     "text": [
      "['color', 'eye_color', 'fname', 'hair_color', 'height', 'name', 'silent', 'speak']\n"
     ]
    }
   ],
   "source": [
    "c1 = Child()\n",
    "print([i for i in dir(c1) if '__' not in i])\n"
   ]
  },
  {
   "cell_type": "code",
   "execution_count": null,
   "id": "7728f444",
   "metadata": {},
   "outputs": [],
   "source": []
  }
 ],
 "metadata": {
  "kernelspec": {
   "display_name": "Python 3 (ipykernel)",
   "language": "python",
   "name": "python3"
  },
  "language_info": {
   "codemirror_mode": {
    "name": "ipython",
    "version": 3
   },
   "file_extension": ".py",
   "mimetype": "text/x-python",
   "name": "python",
   "nbconvert_exporter": "python",
   "pygments_lexer": "ipython3",
   "version": "3.9.12"
  }
 },
 "nbformat": 4,
 "nbformat_minor": 5
}
