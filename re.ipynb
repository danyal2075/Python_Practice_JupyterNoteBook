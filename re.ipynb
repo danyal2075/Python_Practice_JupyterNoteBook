{
 "cells": [
  {
   "cell_type": "markdown",
   "id": "d5063f1a",
   "metadata": {},
   "source": [
    "regular expression\n",
    "We get a specfic pattrn from a string"
   ]
  },
  {
   "cell_type": "code",
   "execution_count": 20,
   "id": "a4c7c40c",
   "metadata": {},
   "outputs": [],
   "source": [
    "import re\n",
    "\n",
    "# https://docs.python.org/3/library/re.html"
   ]
  },
  {
   "cell_type": "code",
   "execution_count": 6,
   "id": "bcbb3327",
   "metadata": {},
   "outputs": [
    {
     "data": {
      "text/plain": [
       "['a', 'a']"
      ]
     },
     "execution_count": 6,
     "metadata": {},
     "output_type": "execute_result"
    }
   ],
   "source": [
    "text = \"\"\"\n",
    "pakistan\n",
    "\n",
    "\"\"\" \n",
    "re.findall('a',text) # extracting charater wise"
   ]
  },
  {
   "cell_type": "code",
   "execution_count": 7,
   "id": "4c230d80",
   "metadata": {},
   "outputs": [
    {
     "data": {
      "text/plain": [
       "['ki', 'ki']"
      ]
     },
     "execution_count": 7,
     "metadata": {},
     "output_type": "execute_result"
    }
   ],
   "source": [
    "text = \"\"\"\n",
    "pakistan america adaki022\n",
    "\n",
    "\"\"\" \n",
    "re.findall('ki',text) "
   ]
  },
  {
   "cell_type": "code",
   "execution_count": 8,
   "id": "bb47b5ee",
   "metadata": {},
   "outputs": [
    {
     "data": {
      "text/plain": [
       "['pak']"
      ]
     },
     "execution_count": 8,
     "metadata": {},
     "output_type": "execute_result"
    }
   ],
   "source": [
    "text = \"\"\"\n",
    "pakistan america adaki022\n",
    "\n",
    "\"\"\" \n",
    "re.findall('pak',text)"
   ]
  },
  {
   "cell_type": "code",
   "execution_count": 11,
   "id": "3100e325",
   "metadata": {},
   "outputs": [
    {
     "data": {
      "text/plain": [
       "['pakistan', 'pakistan']"
      ]
     },
     "execution_count": 11,
     "metadata": {},
     "output_type": "execute_result"
    }
   ],
   "source": [
    "text = \"\"\"\n",
    "pakistan\\n america pakistan adaki022\n",
    "\n",
    "\"\"\" \n",
    "re.findall('pakistan',text)"
   ]
  },
  {
   "cell_type": "code",
   "execution_count": 12,
   "id": "79d76827",
   "metadata": {},
   "outputs": [
    {
     "data": {
      "text/plain": [
       "['pakistan\\n']"
      ]
     },
     "execution_count": 12,
     "metadata": {},
     "output_type": "execute_result"
    }
   ],
   "source": [
    "text = \"\"\"\n",
    "pakistan\\n america pakistan adaki022\n",
    "\n",
    "\"\"\" \n",
    "re.findall(r'pakistan\\n',text)"
   ]
  },
  {
   "cell_type": "code",
   "execution_count": 13,
   "id": "fae7278a",
   "metadata": {},
   "outputs": [
    {
     "data": {
      "text/plain": [
       "['pakistan', 'pakistan', 'pakistan']"
      ]
     },
     "execution_count": 13,
     "metadata": {},
     "output_type": "execute_result"
    }
   ],
   "source": [
    "text = \"\"\"\n",
    "pakistan\\n america pakistan adaki022 pakistan34323\n",
    "\n",
    "\"\"\" \n",
    "re.findall('pakistan',text)"
   ]
  },
  {
   "cell_type": "code",
   "execution_count": 14,
   "id": "f64055de",
   "metadata": {},
   "outputs": [
    {
     "data": {
      "text/plain": [
       "['pakistan', 'pakistan']"
      ]
     },
     "execution_count": 14,
     "metadata": {},
     "output_type": "execute_result"
    }
   ],
   "source": [
    "text = \"\"\"\n",
    "pakistan\\n america pakistan adaki022 pakistan34323\n",
    "\n",
    "\"\"\" \n",
    "re.findall(r'\\bpakistan\\b',text) # we are defining the boundry"
   ]
  },
  {
   "cell_type": "code",
   "execution_count": 18,
   "id": "d096c317",
   "metadata": {},
   "outputs": [
    {
     "data": {
      "text/plain": [
       "['+', '+']"
      ]
     },
     "execution_count": 18,
     "metadata": {},
     "output_type": "execute_result"
    }
   ],
   "source": [
    "text = \"\"\"\n",
    "pakistan + USA +Japan\n",
    "\n",
    "\"\"\" \n",
    "re.findall(r'\\+',text) # special charater converts into the normal character"
   ]
  },
  {
   "cell_type": "markdown",
   "id": "576571fe",
   "metadata": {},
   "source": [
    "# ^ and $ "
   ]
  },
  {
   "cell_type": "code",
   "execution_count": 21,
   "id": "84670359",
   "metadata": {},
   "outputs": [
    {
     "data": {
      "text/plain": [
       "['pakistan']"
      ]
     },
     "execution_count": 21,
     "metadata": {},
     "output_type": "execute_result"
    }
   ],
   "source": [
    "x = '''pakistan zinda abad\n",
    "pakistan is my country\n",
    "pakistan always best country\n",
    "we love our country\n",
    "\n",
    "\n",
    "'''\n",
    "re.findall(r\"^pakistan\", x)   "
   ]
  },
  {
   "cell_type": "code",
   "execution_count": 22,
   "id": "0fdee6fe",
   "metadata": {},
   "outputs": [
    {
     "data": {
      "text/plain": [
       "['p',\n",
       " 'a',\n",
       " 'k',\n",
       " 'i',\n",
       " 's',\n",
       " 't',\n",
       " 'a',\n",
       " 'n',\n",
       " ' ',\n",
       " 'z',\n",
       " 'i',\n",
       " 'n',\n",
       " 'd',\n",
       " 'a',\n",
       " ' ',\n",
       " 'a',\n",
       " 'b',\n",
       " 'a',\n",
       " 'd',\n",
       " 'p',\n",
       " 'a',\n",
       " 'k',\n",
       " 'i',\n",
       " 's',\n",
       " 't',\n",
       " 'a',\n",
       " 'n',\n",
       " ' ',\n",
       " 'i',\n",
       " 's',\n",
       " ' ',\n",
       " 'm',\n",
       " 'y',\n",
       " ' ',\n",
       " 'c',\n",
       " 'o',\n",
       " 'u',\n",
       " 'n',\n",
       " 't',\n",
       " 'r',\n",
       " 'y',\n",
       " 'p',\n",
       " 'a',\n",
       " 'k',\n",
       " 'i',\n",
       " 's',\n",
       " 't',\n",
       " 'a',\n",
       " 'n',\n",
       " ' ',\n",
       " 'a',\n",
       " 'l',\n",
       " 'w',\n",
       " 'a',\n",
       " 'y',\n",
       " 's',\n",
       " ' ',\n",
       " 'b',\n",
       " 'e',\n",
       " 's',\n",
       " 't',\n",
       " ' ',\n",
       " 'c',\n",
       " 'o',\n",
       " 'u',\n",
       " 'n',\n",
       " 't',\n",
       " 'r',\n",
       " 'y',\n",
       " 'w',\n",
       " 'e',\n",
       " ' ',\n",
       " 'l',\n",
       " 'o',\n",
       " 'v',\n",
       " 'e',\n",
       " ' ',\n",
       " 'o',\n",
       " 'u',\n",
       " 'r',\n",
       " ' ',\n",
       " 'c',\n",
       " 'o',\n",
       " 'u',\n",
       " 'n',\n",
       " 't',\n",
       " 'r',\n",
       " 'y']"
      ]
     },
     "execution_count": 22,
     "metadata": {},
     "output_type": "execute_result"
    }
   ],
   "source": [
    "x = '''pakistan zinda abad\n",
    "pakistan is my country\n",
    "pakistan always best country\n",
    "we love our country pakistan\n",
    "\n",
    "\n",
    "'''\n",
    "re.findall(r\".\", x)"
   ]
  },
  {
   "cell_type": "code",
   "execution_count": 4,
   "id": "1669b629",
   "metadata": {},
   "outputs": [
    {
     "data": {
      "text/plain": [
       "['pakistan ', 'pakistan ', 'pakistan ']"
      ]
     },
     "execution_count": 4,
     "metadata": {},
     "output_type": "execute_result"
    }
   ],
   "source": [
    "x = '''pakistan zinda abad\n",
    "pakistan is my country\n",
    "pakistan always best country\n",
    "we love our country\n",
    "\n",
    "\n",
    "'''\n",
    "re.findall(r\"^pakistan.\", x, re.MULTILINE)"
   ]
  },
  {
   "cell_type": "code",
   "execution_count": 5,
   "id": "4cb7e566",
   "metadata": {},
   "outputs": [
    {
     "data": {
      "text/plain": [
       "['pakistan zinda abad',\n",
       " 'pakistan is my country',\n",
       " 'pakistan always best country']"
      ]
     },
     "execution_count": 5,
     "metadata": {},
     "output_type": "execute_result"
    }
   ],
   "source": [
    "x = '''pakistan zinda abad\n",
    "pakistan is my country\n",
    "pakistan always best country\n",
    "we love our country\n",
    "\n",
    "\n",
    "'''\n",
    "# ^ starting line charater\n",
    "# . any charater except '\\n'\n",
    "# * repeat sequance. \n",
    "re.findall(r\"^pakistan.*\", x, re.MULTILINE)"
   ]
  },
  {
   "cell_type": "code",
   "execution_count": 6,
   "id": "a91ac8e9",
   "metadata": {},
   "outputs": [
    {
     "data": {
      "text/plain": [
       "['a',\n",
       " '',\n",
       " '',\n",
       " '',\n",
       " 'aaa',\n",
       " '',\n",
       " 'a',\n",
       " '',\n",
       " '',\n",
       " '',\n",
       " '',\n",
       " 'aa',\n",
       " '',\n",
       " '',\n",
       " '',\n",
       " '',\n",
       " 'a',\n",
       " '',\n",
       " 'aaaaa',\n",
       " '']"
      ]
     },
     "execution_count": 6,
     "metadata": {},
     "output_type": "execute_result"
    }
   ],
   "source": [
    "v = 'abc aaa adef aa fdsa aaaaa'\n",
    "re.findall('a*',v)"
   ]
  },
  {
   "cell_type": "code",
   "execution_count": 79,
   "id": "bc0206cb",
   "metadata": {},
   "outputs": [
    {
     "data": {
      "text/plain": [
       "['a', 'aaa', 'a', 'a', 'aa', 'a', 'aaaaa']"
      ]
     },
     "execution_count": 79,
     "metadata": {},
     "output_type": "execute_result"
    }
   ],
   "source": [
    "v = 'abc aaa adaef jbhgj aa fdsa aaaaa'\n",
    "re.findall('a+',v)"
   ]
  },
  {
   "cell_type": "code",
   "execution_count": 15,
   "id": "a82438df",
   "metadata": {},
   "outputs": [
    {
     "data": {
      "text/plain": [
       "['ab', 'a', 'ab', 'a', 'a', 'ab']"
      ]
     },
     "execution_count": 15,
     "metadata": {},
     "output_type": "execute_result"
    }
   ],
   "source": [
    "v = 'abc aaba adeab'\n",
    "re.findall('ab?',v)  # it will take ab and a as will even if it is alone"
   ]
  },
  {
   "cell_type": "code",
   "execution_count": 19,
   "id": "7dbe83f9",
   "metadata": {},
   "outputs": [
    {
     "data": {
      "text/plain": [
       "['ab', 'a', 'ab', 'a', 'b', 'a', 'ab', 'ba']"
      ]
     },
     "execution_count": 19,
     "metadata": {},
     "output_type": "execute_result"
    }
   ],
   "source": [
    "v = 'abc aaba b adeab cba'\n",
    "re.findall('ab?|ba?',v)  "
   ]
  },
  {
   "cell_type": "code",
   "execution_count": 38,
   "id": "41b47688",
   "metadata": {},
   "outputs": [
    {
     "name": "stdout",
     "output_type": "stream",
     "text": [
      "['45']\n",
      "['123456789']\n"
     ]
    }
   ],
   "source": [
    "x= '''\n",
    "name : sohail\n",
    "fname : qamar\n",
    "edu : Master\n",
    "age : 45 \n",
    "cnic : 123456789\n",
    "\n",
    "'''\n",
    "print(re.findall(r'age : (\\d+)', x))\n",
    "print(re.findall(r'cnic : (\\d+)', x))"
   ]
  },
  {
   "cell_type": "code",
   "execution_count": 44,
   "id": "25e49d7e",
   "metadata": {},
   "outputs": [
    {
     "name": "stdout",
     "output_type": "stream",
     "text": [
      "['54', '45', '12345']\n"
     ]
    }
   ],
   "source": [
    "x= '''\n",
    "name : sohail\n",
    "fname : qamar\n",
    "edu : Master\n",
    "age : 54\n",
    "age : 45 \n",
    "cnic : 123456789\n",
    "\n",
    "'''\n",
    "print(re.findall(r'[0-5]+', x)) # we are going range how many digits should be taken\n",
    "# \\d : numbers\n",
    "# \\w : numbers, capital alphabet,  lower alphabet "
   ]
  },
  {
   "cell_type": "code",
   "execution_count": 72,
   "id": "f0798f07",
   "metadata": {},
   "outputs": [
    {
     "name": "stdout",
     "output_type": "stream",
     "text": [
      "['name', 'sohail', 'fname', 'qamar', 'edu', 'aster', 'age', '54', 'age', '45', 'cnic', '12345']\n",
      "['name', 'sohail', 'fname', 'qamar', 'edu', 'Master', 'age', '54', 'age', '45', 'cnic', '123456789']\n"
     ]
    }
   ],
   "source": [
    "x= '''\n",
    "name : sohail\n",
    "fname : qamar\n",
    "edu : Master\n",
    "age : 54\n",
    "age : 45 \n",
    "cnic : 123456789\n",
    "\n",
    "'''\n",
    "print(re.findall(r'[0-5a-zA-B]+', x)) # now we are giving digits alphabets lower and capital\n",
    "print(re.findall(r'\\w+', x)) # same as upper"
   ]
  },
  {
   "cell_type": "code",
   "execution_count": 75,
   "id": "e257f2f4",
   "metadata": {},
   "outputs": [
    {
     "name": "stdout",
     "output_type": "stream",
     "text": [
      "['s@gmail.com', 'd@gmail.com', 'a@gmail.com', 's@gmail.com']\n",
      "['as@gmail.com', 'abd@gmail.com', 'adsf46@ubl.com', 'Sdfa@gmail.com', 'fds@gmail.com']\n",
      "['as@gmail.com', 'abd@gmail.com', 'sbcs@gmail.org', 'adsf46@ubl.com', 'Sdfa@gmail.com', 'fds@gmail.com']\n",
      "['as@gmail.com', 'abd@gmail.com', 'sbcs@gmail.org', 'adsf46@ubl.com', 'Sdfa@gmail.com', 'asd.fds@gmail.com']\n",
      "['as@gmail.com', 'abd@gmail.com.pk', 'sbcs@gmail.org', 'adsf46@ubl.com', 'Sdfa@gmail.com', 'asd.fds@gmail.com']\n",
      "['as@gmail.com', 'abd@gmail.com', 'adsf46@ubl.com', 'Sdfa@gmail.com', 'fds@gmail.com', 'sbcs@gmail.org']\n"
     ]
    }
   ],
   "source": [
    "x = '''\n",
    "ad df aea d adfda\n",
    "asd as@gmail.com ada adfa ergt da abd@gmail.com.pk\n",
    "adfae sbcs@gmail.org afadfrg ffaffg adsf46@ubl.com\n",
    "asdfadvfg fgg bfsadfe efasdf f Sdfa@gmail.com\n",
    "asd.fds@gmail.com\n",
    "\n",
    "'''\n",
    "print(re.findall(r'[a-z]@gmail.com', x))\n",
    "print(re.findall(r'\\w+@\\w+.com', x)) \n",
    "print(re.findall(r'\\w+@\\w+.\\w+', x)) # it will take all the email except where special charaters are given \n",
    "print(re.findall(r'[0-9a-zA-Z.]+@\\w+.\\w+', x)) # it will take with . as well\n",
    "print(re.findall(r'[0-9a-zA-Z.]+@\\w+.[0-9a-zA-Z.]+', x)) # it takes .pk as well\n",
    "print(re.findall(r'\\w+@\\w+.com', x) + re.findall(r'\\w+@\\w+.org', x)) # it will take org and com both domains email"
   ]
  },
  {
   "cell_type": "code",
   "execution_count": 83,
   "id": "eb934ffd",
   "metadata": {},
   "outputs": [
    {
     "data": {
      "text/plain": [
       "['as@gmail.com', 'adsf46@ubl.com', 'Sdfa@gmail.com']"
      ]
     },
     "execution_count": 83,
     "metadata": {},
     "output_type": "execute_result"
    }
   ],
   "source": [
    "x = '''\n",
    "ad df aea d adfda\n",
    "asd as@gmail.com ada adfa ergt da\n",
    "adfae afadfrg ffaffg adsf46@ubl.com\n",
    "asdfadvfg fgg bfsadfe efasdf f Sdfa@gmail.com\n",
    "'''\n",
    "re.findall(r'\\w+@\\w+.com', x)"
   ]
  },
  {
   "cell_type": "code",
   "execution_count": null,
   "id": "43a9c932",
   "metadata": {},
   "outputs": [],
   "source": []
  }
 ],
 "metadata": {
  "kernelspec": {
   "display_name": "Python 3 (ipykernel)",
   "language": "python",
   "name": "python3"
  },
  "language_info": {
   "codemirror_mode": {
    "name": "ipython",
    "version": 3
   },
   "file_extension": ".py",
   "mimetype": "text/x-python",
   "name": "python",
   "nbconvert_exporter": "python",
   "pygments_lexer": "ipython3",
   "version": "3.9.12"
  }
 },
 "nbformat": 4,
 "nbformat_minor": 5
}
