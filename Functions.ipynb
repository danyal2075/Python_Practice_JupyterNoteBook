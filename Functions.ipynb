{
 "cells": [
  {
   "cell_type": "markdown",
   "id": "6b6eb3cb",
   "metadata": {},
   "source": [
    "# Function\n",
    "\n",
    "Retrun\n",
    "None Return\n",
    "Required Arguments\n",
    "Optional Required Arguments\n",
    "Defualt Function : it does not Arguments\n",
    "Generator Function : it will check the condition in the run time. Generates value one by one. Always remember the old values\n",
    "Lmabda Function :one line function. it has no name. it is used for one time use. \n",
    "Recursive Function : it call in its own body"
   ]
  },
  {
   "cell_type": "markdown",
   "id": "c04caa51",
   "metadata": {},
   "source": [
    "# User define function\n",
    "\n"
   ]
  },
  {
   "cell_type": "code",
   "execution_count": 11,
   "id": "e62fc9ed",
   "metadata": {},
   "outputs": [
    {
     "name": "stdout",
     "output_type": "stream",
     "text": [
      "PIAIC\n",
      "AI\n"
     ]
    }
   ],
   "source": [
    "def piaic_intr():\n",
    "    print(\"PIAIC\")\n",
    "    print(\"AI\")\n",
    "piaic_intr()"
   ]
  },
  {
   "cell_type": "code",
   "execution_count": 12,
   "id": "e40438c0",
   "metadata": {},
   "outputs": [
    {
     "name": "stdout",
     "output_type": "stream",
     "text": [
      "\n",
      "    PIAIC\n",
      "    Courses\n",
      "    AI\n",
      "    CN\n",
      "    \n"
     ]
    }
   ],
   "source": [
    "def piaic_intr1():\n",
    "    txt = \"\"\"\n",
    "    PIAIC\n",
    "    Courses\n",
    "    AI\n",
    "    CN\n",
    "    \"\"\"\n",
    "    return txt\n",
    "print(piaic_intr1())"
   ]
  },
  {
   "cell_type": "code",
   "execution_count": 13,
   "id": "2debb90e",
   "metadata": {},
   "outputs": [
    {
     "name": "stdout",
     "output_type": "stream",
     "text": [
      "\n",
      "    PIAIC\n",
      "    Courses\n",
      "    AI\n",
      "    CN\n",
      "    I am \n"
     ]
    }
   ],
   "source": [
    "a = piaic_intr1() + \"I am \"\n",
    "print(a)"
   ]
  },
  {
   "cell_type": "code",
   "execution_count": 15,
   "id": "0eaba7fd",
   "metadata": {},
   "outputs": [
    {
     "name": "stdout",
     "output_type": "stream",
     "text": [
      "\n",
      "    PIAIC\n",
      "    Courses\n",
      "    AI\n",
      "    CN\n",
      "    \n"
     ]
    }
   ],
   "source": [
    "data = piaic_intr1()\n",
    "print(data)"
   ]
  },
  {
   "cell_type": "code",
   "execution_count": 16,
   "id": "d643293f",
   "metadata": {},
   "outputs": [
    {
     "name": "stdout",
     "output_type": "stream",
     "text": [
      "PIAIC\n",
      "AI\n",
      "None\n"
     ]
    }
   ],
   "source": [
    "data1 = piaic_intr()\n",
    "print(data1)"
   ]
  },
  {
   "cell_type": "markdown",
   "id": "9d16fe8b",
   "metadata": {},
   "source": [
    "# Required Arguments"
   ]
  },
  {
   "cell_type": "code",
   "execution_count": 19,
   "id": "ad56956d",
   "metadata": {},
   "outputs": [
    {
     "name": "stdout",
     "output_type": "stream",
     "text": [
      "3\n"
     ]
    }
   ],
   "source": [
    "def additon(num1, num2):\n",
    "    return num1 + num2\n",
    "print(additon(1,2))"
   ]
  },
  {
   "cell_type": "markdown",
   "id": "571f7307",
   "metadata": {},
   "source": [
    "# optional Argument\n"
   ]
  },
  {
   "cell_type": "code",
   "execution_count": 21,
   "id": "8755b3a3",
   "metadata": {},
   "outputs": [
    {
     "name": "stdout",
     "output_type": "stream",
     "text": [
      "3\n",
      "5\n",
      "7\n"
     ]
    }
   ],
   "source": [
    "# if we donot give any parameters it will take the arguments in the declaration area\n",
    "def additon(num1 = 1, num2 = 2):\n",
    "    return num1 + num2\n",
    "print(additon())\n",
    "print(additon(1,4))\n",
    "print(additon(5,2))"
   ]
  },
  {
   "cell_type": "code",
   "execution_count": 24,
   "id": "a5c77bbd",
   "metadata": {},
   "outputs": [
    {
     "name": "stdout",
     "output_type": "stream",
     "text": [
      "\n",
      "    Boling rice sela...\n",
      "    Cook the chicken meat...\n",
      "    make tamoto 0.5 KG...\n",
      "    \n"
     ]
    }
   ],
   "source": [
    "# so rice and meat are required arguments and tomoto is optional argument\n",
    "def making_biryani(rice,meat, tomoto = '0.5 KG'):\n",
    "    txt = f\"\"\"\n",
    "    Boling rice {rice}...\n",
    "    Cook the {meat} meat...\n",
    "    make tamoto {tomoto}...\n",
    "    \"\"\"\n",
    "    return txt\n",
    "print(making_biryani('sela','chicken'))"
   ]
  },
  {
   "cell_type": "code",
   "execution_count": 25,
   "id": "d476ecf4",
   "metadata": {},
   "outputs": [
    {
     "name": "stdout",
     "output_type": "stream",
     "text": [
      "\n",
      "    Boling rice basmati...\n",
      "    Cook the Ghosht meat...\n",
      "    make tamoto 0.5 KG...\n",
      "    \n"
     ]
    }
   ],
   "source": [
    "print(making_biryani('basmati', 'Ghosht'))"
   ]
  },
  {
   "cell_type": "markdown",
   "id": "0963da66",
   "metadata": {},
   "source": [
    "# optional Arguments 2 unlimited\n"
   ]
  },
  {
   "cell_type": "code",
   "execution_count": 33,
   "id": "532456a0",
   "metadata": {},
   "outputs": [
    {
     "name": "stdout",
     "output_type": "stream",
     "text": [
      "7 (3, 4, 5, 6, 7, 7, 8)\n"
     ]
    },
    {
     "data": {
      "text/plain": [
       "7"
      ]
     },
     "execution_count": 33,
     "metadata": {},
     "output_type": "execute_result"
    }
   ],
   "source": [
    "def my_sum(num1, *num2):\n",
    "    print(num1, num2)\n",
    "    return num1 \n",
    "my_sum(7, 3,4,5,6,7,7,8)"
   ]
  },
  {
   "cell_type": "code",
   "execution_count": 37,
   "id": "aca3be0a",
   "metadata": {},
   "outputs": [
    {
     "name": "stdout",
     "output_type": "stream",
     "text": [
      "(7, 3, 4, 5, 6, 7, 7, 8)\n",
      "(7, 3, 4, 5, 6, 7, 7, 8) ()\n"
     ]
    },
    {
     "data": {
      "text/plain": [
       "(7, 3, 4, 5, 6, 7, 7, 8)"
      ]
     },
     "execution_count": 37,
     "metadata": {},
     "output_type": "execute_result"
    }
   ],
   "source": [
    "def my_sum(*num2):\n",
    "    print(num2)\n",
    "    return sum(num2)\n",
    "my_sum(7, 3,4,5,6,7,7,8)"
   ]
  },
  {
   "cell_type": "code",
   "execution_count": 38,
   "id": "59efe034",
   "metadata": {},
   "outputs": [
    {
     "name": "stdout",
     "output_type": "stream",
     "text": [
      "1 2 3 4\n"
     ]
    }
   ],
   "source": [
    "# Unzipping the list \n",
    "def my_sum_new(num1, num2,num3,num4):\n",
    "    print(num1, num2,num3,num4)\n",
    "l = [1,2,3,4]    \n",
    "my_sum_new(*l)"
   ]
  },
  {
   "cell_type": "code",
   "execution_count": 39,
   "id": "ffc471fa",
   "metadata": {},
   "outputs": [
    {
     "name": "stdout",
     "output_type": "stream",
     "text": [
      "\n",
      "    PIAIC Student Card\n",
      "    Roll Number : 15302\n",
      "    Name : Sohail Danyal  Father Name : Qamar Zaman\n",
      "    Course : AI\n",
      "    \n"
     ]
    }
   ],
   "source": [
    "def student_card(Name,Father_Name,rollnumber, course,):\n",
    "    txt = f\"\"\"\n",
    "    PIAIC Student Card\n",
    "    Roll Number : {rollnumber}\n",
    "    Name : {Name}  Father Name : {Father_Name}\n",
    "    Course : {course}\n",
    "    \"\"\"\n",
    "    return txt\n",
    "print(student_card('Sohail Danyal', 'Qamar Zaman', '15302', 'AI'))\n"
   ]
  },
  {
   "cell_type": "code",
   "execution_count": 42,
   "id": "c0595dbd",
   "metadata": {},
   "outputs": [],
   "source": [
    "student_data = student_card('Sohail Hamza', 'Qamar Zaman', '15302', 'AI')"
   ]
  },
  {
   "cell_type": "code",
   "execution_count": 43,
   "id": "44f79779",
   "metadata": {},
   "outputs": [
    {
     "name": "stdout",
     "output_type": "stream",
     "text": [
      "\n",
      "    PIAIC Student Card\n",
      "    Roll Number : 15302\n",
      "    Name : Sohail Hamza  Father Name : Qamar Zaman\n",
      "    Course : AI\n",
      "    \n"
     ]
    }
   ],
   "source": [
    "print(student_data)"
   ]
  },
  {
   "cell_type": "code",
   "execution_count": 50,
   "id": "e854b4c0",
   "metadata": {},
   "outputs": [
    {
     "name": "stdout",
     "output_type": "stream",
     "text": [
      "\n",
      "    PIAIC Student Card\n",
      "    Roll Number : 15302\n",
      "    Name : Sohail Danyal  Father Name : Qamar Zaman\n",
      "    Course : AI\n",
      "    \n",
      "**********Both are same*********\n",
      "\n",
      "    PIAIC Student Card\n",
      "    Roll Number : 15302\n",
      "    Name : Danyal  Father Name : Qamar\n",
      "    Course : AI\n",
      "    \n"
     ]
    }
   ],
   "source": [
    "print(student_card(Name= 'Sohail Danyal',Father_Name = 'Qamar Zaman',rollnumber= '15302',course = 'AI'))\n",
    "print('**********Both are same*********')\n",
    "s_data = {\n",
    "    'Name': 'Danyal',\n",
    "    'Father_Name': 'Qamar',\n",
    "    'rollnumber': '15302',\n",
    "    'course': 'AI'\n",
    "    \n",
    "}\n",
    "print(student_card(**s_data)) # if we pass the arguments via dic"
   ]
  },
  {
   "cell_type": "code",
   "execution_count": 46,
   "id": "bd1bfce5",
   "metadata": {},
   "outputs": [
    {
     "name": "stdout",
     "output_type": "stream",
     "text": [
      "\n",
      "    PIAIC Student Card\n",
      "    Roll Number : 15302\n",
      "    Name : Sohail  Father Name : Qamar\n",
      "    Course : AI\n",
      "    \n"
     ]
    }
   ],
   "source": [
    "l = ['Sohail', 'Qamar', '15302', 'AI']\n",
    "student_card(*l)\n",
    "print(student_card(*l)) # if we pass the arguments via list"
   ]
  },
  {
   "cell_type": "markdown",
   "id": "12c7a9f2",
   "metadata": {},
   "source": [
    "# creating keyword argument unlimited "
   ]
  },
  {
   "cell_type": "code",
   "execution_count": 53,
   "id": "5accf695",
   "metadata": {},
   "outputs": [
    {
     "name": "stdout",
     "output_type": "stream",
     "text": [
      "2 3 {'name': 'sohail', 'fname': 'qamar', 'course': 'AI '}\n"
     ]
    }
   ],
   "source": [
    "def new_dic(num1, num2, **abc):\n",
    "    print(num1, num2, abc)\n",
    "new_dic(2,3, name = 'sohail', fname = 'qamar', course = 'AI ' )"
   ]
  },
  {
   "cell_type": "code",
   "execution_count": 54,
   "id": "e5f22a19",
   "metadata": {},
   "outputs": [
    {
     "name": "stdout",
     "output_type": "stream",
     "text": [
      "2 3 (4, 5, 6, 7) {'len': 5, 'name': 'sohail', 'fname': 'qamar'}\n"
     ]
    }
   ],
   "source": [
    "def new_dic1(num1, num2,*l, **abc):\n",
    "    print(num1, num2,l, abc)\n",
    "new_dic1(2,3,4,5,6,7, len = 5, name = 'sohail', fname = 'qamar')"
   ]
  },
  {
   "cell_type": "markdown",
   "id": "c3a9d6a4",
   "metadata": {},
   "source": [
    "# Lambda"
   ]
  },
  {
   "cell_type": "code",
   "execution_count": 55,
   "id": "d9fa1b26",
   "metadata": {},
   "outputs": [
    {
     "data": {
      "text/plain": [
       "5"
      ]
     },
     "execution_count": 55,
     "metadata": {},
     "output_type": "execute_result"
    }
   ],
   "source": [
    "def add(num1, num2):\n",
    "    return num1 +num2\n",
    "add(2,3)"
   ]
  },
  {
   "cell_type": "code",
   "execution_count": 56,
   "id": "6333524e",
   "metadata": {},
   "outputs": [
    {
     "data": {
      "text/plain": [
       "5"
      ]
     },
     "execution_count": 56,
     "metadata": {},
     "output_type": "execute_result"
    }
   ],
   "source": [
    "# lambda arg1, arg2 : function_body\n",
    "a = lambda num1,num2: num1 +num2\n",
    "a(2,3)"
   ]
  },
  {
   "cell_type": "code",
   "execution_count": 61,
   "id": "3993f134",
   "metadata": {},
   "outputs": [
    {
     "data": {
      "text/plain": [
       "[[3, 'X', 'C'], [2, 'Y', 'B'], [1, 'Z', 'A']]"
      ]
     },
     "execution_count": 61,
     "metadata": {},
     "output_type": "execute_result"
    }
   ],
   "source": [
    "data = [[1,'Z', 'A'], \n",
    "       [2,'Y', 'B'],\n",
    "       [3,'X','C']]\n",
    "sorted(data, key =lambda x:x[1])"
   ]
  },
  {
   "cell_type": "code",
   "execution_count": 62,
   "id": "84085458",
   "metadata": {},
   "outputs": [
    {
     "data": {
      "text/plain": [
       "[[1, 'Z', 'A'], [2, 'Y', 'B'], [3, 'X', 'C']]"
      ]
     },
     "execution_count": 62,
     "metadata": {},
     "output_type": "execute_result"
    }
   ],
   "source": [
    "sorted(data, key =lambda x:x[0]) \n"
   ]
  },
  {
   "cell_type": "code",
   "execution_count": 63,
   "id": "2e159c35",
   "metadata": {},
   "outputs": [
    {
     "data": {
      "text/plain": [
       "[[3, 'X', 'C'], [2, 'Y', 'B'], [1, 'Z', 'A']]"
      ]
     },
     "execution_count": 63,
     "metadata": {},
     "output_type": "execute_result"
    }
   ],
   "source": [
    "sorted(data, key =lambda x:x[2], reverse = True)"
   ]
  },
  {
   "cell_type": "markdown",
   "id": "74e44c4b",
   "metadata": {},
   "source": [
    "# Generator Function"
   ]
  },
  {
   "cell_type": "code",
   "execution_count": 64,
   "id": "e9cde4f4",
   "metadata": {},
   "outputs": [
    {
     "name": "stdout",
     "output_type": "stream",
     "text": [
      "1\n",
      "2\n",
      "3\n",
      "4\n"
     ]
    }
   ],
   "source": [
    "for i in (1,2,3,4):\n",
    "    print(i)"
   ]
  },
  {
   "cell_type": "code",
   "execution_count": 67,
   "id": "b1f77b25",
   "metadata": {},
   "outputs": [
    {
     "name": "stdout",
     "output_type": "stream",
     "text": [
      "1\n",
      "2\n",
      "3\n",
      "4\n"
     ]
    }
   ],
   "source": [
    "for i in range(1,5):\n",
    "    print(i)"
   ]
  },
  {
   "cell_type": "code",
   "execution_count": null,
   "id": "f26c1a72",
   "metadata": {},
   "outputs": [],
   "source": []
  },
  {
   "cell_type": "code",
   "execution_count": 88,
   "id": "43bc7c46",
   "metadata": {},
   "outputs": [
    {
     "name": "stdout",
     "output_type": "stream",
     "text": [
      "1\n"
     ]
    }
   ],
   "source": [
    "def my_gen(s,e):\n",
    "    for i in range(s,e+1):\n",
    "        \n",
    "        return i\n",
    "    \n",
    "abc = my_gen(1,10)\n",
    "print(my_gen(1,10))\n",
    "# print(next(abc))\n",
    "# print(next(abc))"
   ]
  },
  {
   "cell_type": "code",
   "execution_count": 73,
   "id": "d11a819f",
   "metadata": {},
   "outputs": [
    {
     "name": "stdout",
     "output_type": "stream",
     "text": [
      "1\n",
      "2\n"
     ]
    }
   ],
   "source": [
    "def my_gen(s,e):\n",
    "    for i in range(s,e+1):\n",
    "        \n",
    "        yield i\n",
    "    \n",
    "abc = my_gen(1,10)\n",
    "print(next(abc))\n",
    "print(next(abc))"
   ]
  },
  {
   "cell_type": "code",
   "execution_count": 74,
   "id": "f4e6a3c8",
   "metadata": {},
   "outputs": [
    {
     "name": "stdout",
     "output_type": "stream",
     "text": [
      "1\n",
      "2\n",
      "3\n",
      "4\n",
      "5\n",
      "6\n",
      "7\n",
      "8\n",
      "9\n",
      "10\n"
     ]
    }
   ],
   "source": [
    "for i in my_gen(1,10):\n",
    "    print(i)"
   ]
  },
  {
   "cell_type": "markdown",
   "id": "a44810de",
   "metadata": {},
   "source": [
    "# Recursive \n"
   ]
  },
  {
   "cell_type": "code",
   "execution_count": 80,
   "id": "a8068805",
   "metadata": {},
   "outputs": [
    {
     "name": "stdout",
     "output_type": "stream",
     "text": [
      "5\n",
      "4\n",
      "3\n",
      "2\n",
      "1\n",
      "0\n"
     ]
    }
   ],
   "source": [
    "def abc(n):\n",
    "    print(n)\n",
    "    if n == 0:\n",
    "        return\n",
    "    else:\n",
    "        return abc(n-1)\n",
    "abc(5)"
   ]
  },
  {
   "cell_type": "code",
   "execution_count": null,
   "id": "8830d580",
   "metadata": {},
   "outputs": [],
   "source": []
  }
 ],
 "metadata": {
  "kernelspec": {
   "display_name": "Python 3 (ipykernel)",
   "language": "python",
   "name": "python3"
  },
  "language_info": {
   "codemirror_mode": {
    "name": "ipython",
    "version": 3
   },
   "file_extension": ".py",
   "mimetype": "text/x-python",
   "name": "python",
   "nbconvert_exporter": "python",
   "pygments_lexer": "ipython3",
   "version": "3.9.12"
  }
 },
 "nbformat": 4,
 "nbformat_minor": 5
}
