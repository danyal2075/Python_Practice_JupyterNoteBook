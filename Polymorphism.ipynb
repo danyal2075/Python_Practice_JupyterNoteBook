{
 "cells": [
  {
   "cell_type": "code",
   "execution_count": null,
   "id": "3aed5332",
   "metadata": {},
   "outputs": [],
   "source": []
  },
  {
   "cell_type": "markdown",
   "id": "f87cae6c",
   "metadata": {},
   "source": [
    "# Polymorphism \n",
    "if object behave multiple behaviours, with same method name or operator\n",
    "* Overloading\n",
    "    * within same class\n",
    "    * name same but pass argument with different data types\n",
    "* Overriding\n",
    "    * with parent and child "
   ]
  },
  {
   "cell_type": "markdown",
   "id": "2da5d2ab",
   "metadata": {},
   "source": [
    "# Overloading data more than one"
   ]
  },
  {
   "cell_type": "code",
   "execution_count": 9,
   "id": "f04a8ac8",
   "metadata": {},
   "outputs": [
    {
     "name": "stdout",
     "output_type": "stream",
     "text": [
      "9\n",
      "19\n",
      "25\n"
     ]
    }
   ],
   "source": [
    "class Math():\n",
    "    def sum(self,*num): # Overloading\n",
    "#         print(num)\n",
    "        return sum(num)\n",
    "    \n",
    "m1 = Math()\n",
    "print(m1.sum(2,3,4))\n",
    "print(m1.sum(2,3,4,4,6))\n",
    "print(m1.sum(2,3,4,3,5,2,6))# No problem how many values we pass it will add them."
   ]
  },
  {
   "cell_type": "markdown",
   "id": "bb00a27d",
   "metadata": {},
   "source": [
    "# operator overloading"
   ]
  },
  {
   "cell_type": "code",
   "execution_count": 15,
   "id": "1655f6fb",
   "metadata": {},
   "outputs": [
    {
     "name": "stdout",
     "output_type": "stream",
     "text": [
      "Sohail Danyal\n",
      "5\n"
     ]
    }
   ],
   "source": [
    "class Math():\n",
    "    def sum(self,num1,num2): # Overloading\n",
    "#         print(num)\n",
    "        return num1 + num2\n",
    "\n",
    "c1 = Math()\n",
    "print(c1.sum('Sohail ','Danyal'))\n",
    "print(c1.sum(2,3))"
   ]
  },
  {
   "cell_type": "markdown",
   "id": "ef84fdb5",
   "metadata": {},
   "source": [
    "# Destructor "
   ]
  },
  {
   "cell_type": "code",
   "execution_count": 29,
   "id": "e87b85c7",
   "metadata": {},
   "outputs": [
    {
     "name": "stdout",
     "output_type": "stream",
     "text": [
      "Sohail Danyal\n"
     ]
    }
   ],
   "source": [
    "class Math():\n",
    "    def sum(self,num1,num2): # Overloading\n",
    "#         print(num)\n",
    "        return num1 + num2\n",
    "    \n",
    "    def __del__(self):\n",
    "        return print('The object is deleted')\n",
    "\n",
    "c1 = Math()\n",
    "print(c1.sum('Sohail ','Danyal')) "
   ]
  },
  {
   "cell_type": "code",
   "execution_count": 30,
   "id": "b98f9bd2",
   "metadata": {},
   "outputs": [
    {
     "name": "stdout",
     "output_type": "stream",
     "text": [
      "Sohail Danyal\n",
      "The object is deleted\n"
     ]
    }
   ],
   "source": [
    "print(c1.sum('Sohail ','Danyal')) \n",
    "del c1 # I called del so it will delete the object. If i run it next time it i will give me error becasuse the object is no more present\n",
    "# print(c1.sum('Sohail ','Danyal'))"
   ]
  },
  {
   "cell_type": "markdown",
   "id": "50f4371e",
   "metadata": {},
   "source": [
    "# Overriding "
   ]
  },
  {
   "cell_type": "code",
   "execution_count": 38,
   "id": "563bcb6d",
   "metadata": {},
   "outputs": [
    {
     "name": "stdout",
     "output_type": "stream",
     "text": [
      "hhhhh\n"
     ]
    }
   ],
   "source": [
    "class Parent():\n",
    "    def speak(self):\n",
    "        return print('HHHHH')\n",
    "    \n",
    "class Child(Parent):\n",
    "    def speak(self):\n",
    "        return print('hhhhh')\n",
    "    \n",
    "c1 = Child()\n",
    "c1.speak()\n",
    "\n"
   ]
  },
  {
   "cell_type": "code",
   "execution_count": 41,
   "id": "5e213b00",
   "metadata": {},
   "outputs": [
    {
     "name": "stdout",
     "output_type": "stream",
     "text": [
      "HHHHH\n"
     ]
    }
   ],
   "source": [
    "p1 = Parent()\n",
    "p1.speak()\n"
   ]
  },
  {
   "cell_type": "code",
   "execution_count": null,
   "id": "9d174f8b",
   "metadata": {},
   "outputs": [],
   "source": []
  }
 ],
 "metadata": {
  "kernelspec": {
   "display_name": "Python 3 (ipykernel)",
   "language": "python",
   "name": "python3"
  },
  "language_info": {
   "codemirror_mode": {
    "name": "ipython",
    "version": 3
   },
   "file_extension": ".py",
   "mimetype": "text/x-python",
   "name": "python",
   "nbconvert_exporter": "python",
   "pygments_lexer": "ipython3",
   "version": "3.9.12"
  }
 },
 "nbformat": 4,
 "nbformat_minor": 5
}
