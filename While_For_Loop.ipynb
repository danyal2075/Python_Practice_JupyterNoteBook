{
 "cells": [
  {
   "cell_type": "markdown",
   "id": "da134e63",
   "metadata": {},
   "source": [
    "# Control Blocks\n"
   ]
  },
  {
   "cell_type": "markdown",
   "id": "048ae6f5",
   "metadata": {},
   "source": [
    "# for loop is used to get value from dic or list.\n",
    "# while loop is used to put certain condition"
   ]
  },
  {
   "cell_type": "code",
   "execution_count": 2,
   "id": "52b9813a",
   "metadata": {},
   "outputs": [
    {
     "name": "stdout",
     "output_type": "stream",
     "text": [
      "pakistan\n",
      "pakistan\n",
      "pakistan\n",
      "pakistan\n",
      "pakistan\n",
      "pakistan\n",
      "pakistan\n",
      "pakistan\n",
      "pakistan\n",
      "pakistan\n",
      "pakistan\n"
     ]
    }
   ],
   "source": [
    "counter = 0\n",
    "\n",
    "while counter <= 10:\n",
    "    print('pakistan')\n",
    "    counter += 1"
   ]
  },
  {
   "cell_type": "code",
   "execution_count": 3,
   "id": "1de3f908",
   "metadata": {},
   "outputs": [
    {
     "name": "stdout",
     "output_type": "stream",
     "text": [
      "pakistan\n",
      "pakistan\n",
      "pakistan\n",
      "pakistan\n",
      "pakistan\n"
     ]
    }
   ],
   "source": [
    "counter = 0\n",
    "\n",
    "while counter <= 1000000:\n",
    "    if counter == 5:\n",
    "        break\n",
    "    \n",
    "    print('pakistan')\n",
    "    counter += 1"
   ]
  },
  {
   "cell_type": "code",
   "execution_count": 13,
   "id": "0ea11cdf",
   "metadata": {},
   "outputs": [
    {
     "name": "stdout",
     "output_type": "stream",
     "text": [
      "['A', 'B', 'C', 'D', 'E', 'F', 'G', 'H', 'I', 'J', 'K', 'L', 'M', 'N', 'O', 'P', 'Q', 'R', 'S', 'T', 'U', 'V', 'W', 'X', 'Y', 'Z']\n"
     ]
    }
   ],
   "source": [
    "user =[ chr(i) for i in range(65,91)]\n",
    "\n",
    "print(user)"
   ]
  },
  {
   "cell_type": "code",
   "execution_count": 7,
   "id": "88d51f29",
   "metadata": {},
   "outputs": [
    {
     "name": "stdout",
     "output_type": "stream",
     "text": [
      "input the valuer\n",
      "65 A\n",
      "66 B\n",
      "67 C\n",
      "68 D\n",
      "69 E\n",
      "70 F\n",
      "71 G\n",
      "72 H\n",
      "73 I\n",
      "74 J\n",
      "75 K\n",
      "76 L\n",
      "77 M\n",
      "78 N\n",
      "79 O\n",
      "80 P\n",
      "81 Q\n",
      "82 R\n"
     ]
    }
   ],
   "source": [
    "user = 65\n",
    "a = input('input the value').upper()\n",
    "while user <= 90:\n",
    "    print(user, chr(user))\n",
    "    if chr(user) == a:\n",
    "        break\n",
    "    user += 1"
   ]
  },
  {
   "cell_type": "code",
   "execution_count": 9,
   "id": "009f975f",
   "metadata": {},
   "outputs": [
    {
     "name": "stdout",
     "output_type": "stream",
     "text": [
      "input the value : r\n",
      "82 R\n"
     ]
    }
   ],
   "source": [
    "user = 65\n",
    "a = input('input the value : ').upper()\n",
    "while user <= 90:\n",
    "    \n",
    "    if chr(user) == a:\n",
    "        print(user, chr(user))\n",
    "        break\n",
    "    user += 1"
   ]
  },
  {
   "cell_type": "code",
   "execution_count": 10,
   "id": "bb5e6b42",
   "metadata": {},
   "outputs": [
    {
     "name": "stdout",
     "output_type": "stream",
     "text": [
      "Enter your data. To exit the loop press 'X' sohail\n",
      "Enter your data. To exit the loop press 'X' danyal\n",
      "Enter your data. To exit the loop press 'X' hamza\n",
      "Enter your data. To exit the loop press 'X' mehran\n",
      "Enter your data. To exit the loop press 'X' x\n"
     ]
    }
   ],
   "source": [
    "names = []\n",
    "while True:\n",
    "    name = input(\"Enter your data. To exit the loop press 'X' \")\n",
    "    if name == 'x'.lower():\n",
    "        break\n",
    "    names.append(name)\n",
    "    "
   ]
  },
  {
   "cell_type": "code",
   "execution_count": 12,
   "id": "257b4c31",
   "metadata": {},
   "outputs": [
    {
     "name": "stdout",
     "output_type": "stream",
     "text": [
      "Search for Alphabeth\n",
      "A\n",
      "B\n",
      "C\n",
      "D\n",
      "E\n",
      "F\n",
      "G\n",
      "H\n"
     ]
    }
   ],
   "source": [
    "user = ['A', 'B', 'C', 'D', 'E', 'F', 'G', 'H', 'I', 'J', 'K', 'L', 'M', 'N', 'O', 'P', 'Q', 'R', 'S', 'T', 'U', 'V', 'W', 'X', 'Y', 'Z']\n",
    "s = input('Search for Alphabet').upper()\n",
    "for i in user:\n",
    "    print(i)\n",
    "    if i == s:\n",
    "        break"
   ]
  },
  {
   "cell_type": "markdown",
   "id": "c7df3139",
   "metadata": {},
   "source": [
    "# List comprehensive style"
   ]
  },
  {
   "cell_type": "code",
   "execution_count": 14,
   "id": "a64f798d",
   "metadata": {},
   "outputs": [
    {
     "name": "stdout",
     "output_type": "stream",
     "text": [
      "1\n",
      "2\n",
      "3\n",
      "4\n",
      "5\n",
      "6\n",
      "7\n",
      "8\n",
      "9\n",
      "10\n"
     ]
    }
   ],
   "source": [
    "for i in range(1 ,11):\n",
    "    print(i) # body"
   ]
  },
  {
   "cell_type": "code",
   "execution_count": 15,
   "id": "02ac1bcc",
   "metadata": {},
   "outputs": [
    {
     "data": {
      "text/plain": [
       "[1, 2, 3, 4, 5, 6, 7, 8, 9, 10]"
      ]
     },
     "execution_count": 15,
     "metadata": {},
     "output_type": "execute_result"
    }
   ],
   "source": [
    "# we can take the body of the for loop in the start\n",
    "[i for i in range(1,11)]"
   ]
  },
  {
   "cell_type": "code",
   "execution_count": 17,
   "id": "2b3b5132",
   "metadata": {},
   "outputs": [
    {
     "data": {
      "text/plain": [
       "['A',\n",
       " 'B',\n",
       " 'C',\n",
       " 'D',\n",
       " 'E',\n",
       " 'F',\n",
       " 'G',\n",
       " 'H',\n",
       " 'I',\n",
       " 'J',\n",
       " 'K',\n",
       " 'L',\n",
       " 'M',\n",
       " 'N',\n",
       " 'O',\n",
       " 'P',\n",
       " 'Q',\n",
       " 'R',\n",
       " 'S',\n",
       " 'T',\n",
       " 'U',\n",
       " 'V',\n",
       " 'W',\n",
       " 'X',\n",
       " 'Y',\n",
       " 'Z']"
      ]
     },
     "execution_count": 17,
     "metadata": {},
     "output_type": "execute_result"
    }
   ],
   "source": [
    "[chr(i) for i in range(65,91)]"
   ]
  },
  {
   "cell_type": "code",
   "execution_count": 97,
   "id": "eced2c6e",
   "metadata": {},
   "outputs": [
    {
     "name": "stdout",
     "output_type": "stream",
     "text": [
      "Enter your Employee IDMaster\n",
      "Enter your nameSohail\n",
      "id = 1 \n",
      "Name = Sohail \n",
      "fname = Qamar \n",
      "Edu = Master \n"
     ]
    }
   ],
   "source": [
    "import pandas as pd\n",
    "student_record =[\n",
    "    {\n",
    "        'id' : 1,\n",
    "        'Name' : 'Sohail',\n",
    "        'fname' : 'Qamar',\n",
    "        'Edu' : 'Master'\n",
    "    },\n",
    "    {\n",
    "        'id' : 2,\n",
    "        'Name' : 'DANYAL',\n",
    "        'fname' : 'QAMAR',\n",
    "        'Edu' : 'Master'\n",
    "    }\n",
    "    \n",
    "] \n",
    "id = input('Enter your Employee ID')\n",
    "name = input('Enter your name')\n",
    "for i in student_record:\n",
    "    if i['Edu'] == id and i['Name'] == name:\n",
    "        for k,v in i.items():\n",
    "#             data = k,v\n",
    "#             n_data = pd.DataFrame(data)\n",
    "# #             print(data)\n",
    "#             n_data\n",
    "            print(f'{k} = {v} ')\n",
    "#         print(i)\n",
    "        break\n",
    "    else:\n",
    "        print('No info avaible')\n",
    "        "
   ]
  },
  {
   "cell_type": "markdown",
   "id": "f438b932",
   "metadata": {},
   "source": [
    "#  Nested Loop"
   ]
  },
  {
   "cell_type": "code",
   "execution_count": 49,
   "id": "79c2d2b5",
   "metadata": {},
   "outputs": [
    {
     "data": {
      "text/plain": [
       "['\\x01',\n",
       " '\\x02',\n",
       " '\\x03',\n",
       " '\\x04',\n",
       " '\\x05',\n",
       " '\\x06',\n",
       " '\\x07',\n",
       " '\\x08',\n",
       " '\\t',\n",
       " '\\n',\n",
       " '\\x0b',\n",
       " '\\x0c',\n",
       " '\\r',\n",
       " '\\x0e',\n",
       " '\\x0f',\n",
       " '\\x10',\n",
       " '\\x11',\n",
       " '\\x12',\n",
       " '\\x13',\n",
       " '\\x14',\n",
       " '\\x15',\n",
       " '\\x16',\n",
       " '\\x17',\n",
       " '\\x18',\n",
       " '\\x19',\n",
       " '\\x1a',\n",
       " '\\x1b',\n",
       " '\\x1c',\n",
       " '\\x1d',\n",
       " '\\x1e',\n",
       " '\\x1f',\n",
       " ' ',\n",
       " '!',\n",
       " '\"',\n",
       " '#',\n",
       " '$',\n",
       " '%',\n",
       " '&',\n",
       " \"'\",\n",
       " '(',\n",
       " ')',\n",
       " '*',\n",
       " '+',\n",
       " ',',\n",
       " '-',\n",
       " '.',\n",
       " '/',\n",
       " '0',\n",
       " '1',\n",
       " '2',\n",
       " '3',\n",
       " '4',\n",
       " '5',\n",
       " '6',\n",
       " '7',\n",
       " '8',\n",
       " '9',\n",
       " ':',\n",
       " ';',\n",
       " '<',\n",
       " '=',\n",
       " '>',\n",
       " '?',\n",
       " '@',\n",
       " 'A',\n",
       " 'B',\n",
       " 'C',\n",
       " 'D',\n",
       " 'E',\n",
       " 'F',\n",
       " 'G',\n",
       " 'H',\n",
       " 'I',\n",
       " 'J',\n",
       " 'K',\n",
       " 'L',\n",
       " 'M',\n",
       " 'N',\n",
       " 'O',\n",
       " 'P',\n",
       " 'Q',\n",
       " 'R',\n",
       " 'S',\n",
       " 'T',\n",
       " 'U',\n",
       " 'V',\n",
       " 'W',\n",
       " 'X',\n",
       " 'Y',\n",
       " 'Z',\n",
       " '[',\n",
       " '\\\\',\n",
       " ']',\n",
       " '^',\n",
       " '_',\n",
       " '`',\n",
       " 'a',\n",
       " 'b',\n",
       " 'c',\n",
       " 'd',\n",
       " 'e',\n",
       " 'f',\n",
       " 'g',\n",
       " 'h',\n",
       " 'i',\n",
       " 'j',\n",
       " 'k',\n",
       " 'l',\n",
       " 'm',\n",
       " 'n',\n",
       " 'o',\n",
       " 'p',\n",
       " 'q',\n",
       " 'r',\n",
       " 's',\n",
       " 't',\n",
       " 'u',\n",
       " 'v',\n",
       " 'w',\n",
       " 'x',\n",
       " 'y',\n",
       " 'z',\n",
       " '{',\n",
       " '|',\n",
       " '}',\n",
       " '~',\n",
       " '\\x7f',\n",
       " '\\x80',\n",
       " '\\x81',\n",
       " '\\x82',\n",
       " '\\x83',\n",
       " '\\x84',\n",
       " '\\x85',\n",
       " '\\x86',\n",
       " '\\x87',\n",
       " '\\x88',\n",
       " '\\x89',\n",
       " '\\x8a',\n",
       " '\\x8b',\n",
       " '\\x8c',\n",
       " '\\x8d',\n",
       " '\\x8e',\n",
       " '\\x8f',\n",
       " '\\x90',\n",
       " '\\x91',\n",
       " '\\x92',\n",
       " '\\x93',\n",
       " '\\x94',\n",
       " '\\x95',\n",
       " '\\x96',\n",
       " '\\x97',\n",
       " '\\x98',\n",
       " '\\x99',\n",
       " '\\x9a',\n",
       " '\\x9b',\n",
       " '\\x9c',\n",
       " '\\x9d',\n",
       " '\\x9e',\n",
       " '\\x9f',\n",
       " '\\xa0',\n",
       " '¡',\n",
       " '¢',\n",
       " '£',\n",
       " '¤',\n",
       " '¥',\n",
       " '¦',\n",
       " '§',\n",
       " '¨',\n",
       " '©',\n",
       " 'ª',\n",
       " '«',\n",
       " '¬',\n",
       " '\\xad',\n",
       " '®',\n",
       " '¯',\n",
       " '°',\n",
       " '±',\n",
       " '²',\n",
       " '³',\n",
       " '´',\n",
       " 'µ',\n",
       " '¶',\n",
       " '·',\n",
       " '¸',\n",
       " '¹',\n",
       " 'º',\n",
       " '»',\n",
       " '¼',\n",
       " '½',\n",
       " '¾',\n",
       " '¿',\n",
       " 'À',\n",
       " 'Á',\n",
       " 'Â',\n",
       " 'Ã',\n",
       " 'Ä',\n",
       " 'Å',\n",
       " 'Æ',\n",
       " 'Ç',\n",
       " 'È',\n",
       " 'É',\n",
       " 'Ê',\n",
       " 'Ë',\n",
       " 'Ì',\n",
       " 'Í',\n",
       " 'Î',\n",
       " 'Ï',\n",
       " 'Ð',\n",
       " 'Ñ',\n",
       " 'Ò',\n",
       " 'Ó',\n",
       " 'Ô',\n",
       " 'Õ',\n",
       " 'Ö',\n",
       " '×',\n",
       " 'Ø',\n",
       " 'Ù',\n",
       " 'Ú',\n",
       " 'Û',\n",
       " 'Ü',\n",
       " 'Ý',\n",
       " 'Þ',\n",
       " 'ß',\n",
       " 'à',\n",
       " 'á',\n",
       " 'â',\n",
       " 'ã',\n",
       " 'ä',\n",
       " 'å',\n",
       " 'æ',\n",
       " 'ç',\n",
       " 'è',\n",
       " 'é',\n",
       " 'ê',\n",
       " 'ë',\n",
       " 'ì',\n",
       " 'í',\n",
       " 'î',\n",
       " 'ï',\n",
       " 'ð',\n",
       " 'ñ',\n",
       " 'ò',\n",
       " 'ó',\n",
       " 'ô',\n",
       " 'õ',\n",
       " 'ö',\n",
       " '÷',\n",
       " 'ø',\n",
       " 'ù',\n",
       " 'ú',\n",
       " 'û',\n",
       " 'ü',\n",
       " 'ý',\n",
       " 'þ']"
      ]
     },
     "execution_count": 49,
     "metadata": {},
     "output_type": "execute_result"
    }
   ],
   "source": [
    "[chr(i) for i in range(1,255)]\n",
    "#         print(i)"
   ]
  },
  {
   "cell_type": "code",
   "execution_count": 63,
   "id": "961a12f2",
   "metadata": {},
   "outputs": [
    {
     "name": "stdout",
     "output_type": "stream",
     "text": [
      "1\tA\n",
      "2\tAB\n",
      "3\tABC\n",
      "4\tABCD\n",
      "5\tABCDE\n",
      "6\tABCDEF\n",
      "7\tABCDEFG\n",
      "8\tABCDEFGH\n",
      "9\tABCDEFGHI\n",
      "10\tABCDEFGHIJ\n",
      "11\tABCDEFGHIJK\n",
      "12\tABCDEFGHIJKL\n",
      "13\tABCDEFGHIJKLM\n",
      "14\tABCDEFGHIJKLMN\n",
      "15\tABCDEFGHIJKLMNO\n",
      "16\tABCDEFGHIJKLMNOP\n",
      "17\tABCDEFGHIJKLMNOPQ\n",
      "18\tABCDEFGHIJKLMNOPQR\n",
      "19\tABCDEFGHIJKLMNOPQRS\n",
      "20\tABCDEFGHIJKLMNOPQRST\n",
      "21\tABCDEFGHIJKLMNOPQRSTU\n",
      "22\tABCDEFGHIJKLMNOPQRSTUV\n",
      "23\tABCDEFGHIJKLMNOPQRSTUVW\n",
      "24\tABCDEFGHIJKLMNOPQRSTUVWX\n",
      "25\tABCDEFGHIJKLMNOPQRSTUVWXY\n",
      "26\tABCDEFGHIJKLMNOPQRSTUVWXYZ\n"
     ]
    }
   ],
   "source": [
    "for i in range(1,27):\n",
    "    print(i, end='\\t')\n",
    "    for k in range(65,65+i):\n",
    "        print(chr(k), end='')\n",
    "    print()\n",
    "        \n",
    "        \n",
    "    \n"
   ]
  },
  {
   "cell_type": "code",
   "execution_count": 76,
   "id": "0779c8f3",
   "metadata": {},
   "outputs": [
    {
     "name": "stdout",
     "output_type": "stream",
     "text": [
      "1,2,3,\n",
      "2,3,4,\n",
      "3,4,5,\n"
     ]
    }
   ],
   "source": [
    "data = [[1,2,3],\n",
    "       [2,3,4],\n",
    "       [3,4,5]]\n",
    "# print(data)\n",
    "for i in data:\n",
    "#     print('i loop')\n",
    "    for k in i:\n",
    "        print(k, end= ',')\n",
    "    print()"
   ]
  },
  {
   "cell_type": "code",
   "execution_count": 84,
   "id": "a515de2c",
   "metadata": {},
   "outputs": [
    {
     "name": "stdout",
     "output_type": "stream",
     "text": [
      "2\n",
      "[1, 2, 3] a\n",
      "[2, 3, 4] a\n",
      "[3, 4, 5] a\n"
     ]
    }
   ],
   "source": [
    "data = [[1,2,3],\n",
    "       [2,3,4],\n",
    "       [3,4,5]]\n",
    "print(data[0][1])\n",
    "for i in data:\n",
    "    print(i,'a')\n",
    "    \n",
    "#     for k in range(0,3):\n",
    "#         print(data[i][k])"
   ]
  },
  {
   "cell_type": "code",
   "execution_count": 99,
   "id": "c7153cb0",
   "metadata": {},
   "outputs": [
    {
     "name": "stdout",
     "output_type": "stream",
     "text": [
      "[1, 2, 3, 4, 5]\n",
      "1\n",
      "3\n",
      "4\n",
      "5\n"
     ]
    }
   ],
   "source": [
    "data = [1,2,3,4,5]\n",
    "# print(data)\n",
    "for i in data:\n",
    "    if i == 2:\n",
    "#         print(i)\n",
    "        continue\n",
    "    print(i)"
   ]
  },
  {
   "cell_type": "code",
   "execution_count": null,
   "id": "9ce7dbb3",
   "metadata": {},
   "outputs": [],
   "source": []
  }
 ],
 "metadata": {
  "kernelspec": {
   "display_name": "Python 3 (ipykernel)",
   "language": "python",
   "name": "python3"
  },
  "language_info": {
   "codemirror_mode": {
    "name": "ipython",
    "version": 3
   },
   "file_extension": ".py",
   "mimetype": "text/x-python",
   "name": "python",
   "nbconvert_exporter": "python",
   "pygments_lexer": "ipython3",
   "version": "3.9.12"
  }
 },
 "nbformat": 4,
 "nbformat_minor": 5
}
