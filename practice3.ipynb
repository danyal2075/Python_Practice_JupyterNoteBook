{
 "cells": [
  {
   "cell_type": "markdown",
   "id": "dc9b4bc3",
   "metadata": {},
   "source": [
    "# Sequance"
   ]
  },
  {
   "cell_type": "code",
   "execution_count": 53,
   "id": "877184d6",
   "metadata": {},
   "outputs": [
    {
     "name": "stdout",
     "output_type": "stream",
     "text": [
      "[1, 2, 3, 4, 5, 6, 7, 8, 9, 10, 11, 12, 13, 14, 15, 16, 17, 18, 19, 20]\n",
      "[2, 4, 6, 8, 10, 12]\n",
      "[20, 19, 18, 17, 16, 15, 14, 13, 12, 11, 10, 9, 8, 7, 6, 5, 4, 3, 2, 1]\n",
      "[9, 8, 7, 6]\n",
      "[5, 6, 7, 8]\n"
     ]
    }
   ],
   "source": [
    "number = list(range(1,21))\n",
    "print(number)\n",
    "print(number[1:13:2])\n",
    "print(number[::-1])\n",
    "print(number[-12:-16 :-1])\n",
    "print(number[-16:-12 :1])"
   ]
  },
  {
   "cell_type": "code",
   "execution_count": 54,
   "id": "5197f143",
   "metadata": {},
   "outputs": [
    {
     "data": {
      "text/plain": [
       "['__add__',\n",
       " '__class__',\n",
       " '__class_getitem__',\n",
       " '__contains__',\n",
       " '__delattr__',\n",
       " '__delitem__',\n",
       " '__dir__',\n",
       " '__doc__',\n",
       " '__eq__',\n",
       " '__format__',\n",
       " '__ge__',\n",
       " '__getattribute__',\n",
       " '__getitem__',\n",
       " '__gt__',\n",
       " '__hash__',\n",
       " '__iadd__',\n",
       " '__imul__',\n",
       " '__init__',\n",
       " '__init_subclass__',\n",
       " '__iter__',\n",
       " '__le__',\n",
       " '__len__',\n",
       " '__lt__',\n",
       " '__mul__',\n",
       " '__ne__',\n",
       " '__new__',\n",
       " '__reduce__',\n",
       " '__reduce_ex__',\n",
       " '__repr__',\n",
       " '__reversed__',\n",
       " '__rmul__',\n",
       " '__setattr__',\n",
       " '__setitem__',\n",
       " '__sizeof__',\n",
       " '__str__',\n",
       " '__subclasshook__',\n",
       " 'append',\n",
       " 'clear',\n",
       " 'copy',\n",
       " 'count',\n",
       " 'extend',\n",
       " 'index',\n",
       " 'insert',\n",
       " 'pop',\n",
       " 'remove',\n",
       " 'reverse',\n",
       " 'sort']"
      ]
     },
     "execution_count": 54,
     "metadata": {},
     "output_type": "execute_result"
    }
   ],
   "source": [
    "dir(number)\n",
    "    "
   ]
  },
  {
   "cell_type": "code",
   "execution_count": 55,
   "id": "a60625c6",
   "metadata": {},
   "outputs": [
    {
     "name": "stdout",
     "output_type": "stream",
     "text": [
      "original :  ['sohail', 'danyal', 'hamza', 'mehran']\n",
      "appended : ['sohail', 'danyal', 'hamza', 'mehran', 'zakriya']\n"
     ]
    }
   ],
   "source": [
    "name = ['sohail', 'danyal', 'hamza', 'mehran']\n",
    "print('original : ', name)\n",
    "name.append('zakriya')\n",
    "print('appended :', name)"
   ]
  },
  {
   "cell_type": "code",
   "execution_count": 56,
   "id": "fa845b25",
   "metadata": {},
   "outputs": [
    {
     "name": "stdout",
     "output_type": "stream",
     "text": [
      "orginal :  [1, 2, 3, 4, 5, 6, 7, 8, 9, 10, 11, 12, 13, 14, 15, 16, 17, 18, 19, 20]\n",
      "cleared :  []\n"
     ]
    }
   ],
   "source": [
    "print('orginal : ',number)\n",
    "number.clear()\n",
    "print('cleared : ',number)\n"
   ]
  },
  {
   "cell_type": "code",
   "execution_count": 57,
   "id": "ab7c8b03",
   "metadata": {},
   "outputs": [
    {
     "name": "stdout",
     "output_type": "stream",
     "text": [
      "Orginal :  ['sohail', 'danyal', 'hamza', 'mehran', 'zakriya']\n",
      "Copied :  ['sohail', 'danyal', 'hamza', 'mehran', 'zakriya']\n",
      "Changed_Orignal : ['SOHAIL', 'danyal', 'hamza', 'mehran', 'zakriya']\n",
      "After_Changed_Copied : ['sohail', 'danyal', 'hamza', 'mehran', 'zakriya']\n"
     ]
    }
   ],
   "source": [
    "names = name.copy()\n",
    "print('Orginal : ',name)\n",
    "print('Copied : ',names)\n",
    "name[0] = 'SOHAIL'\n",
    "print('Changed_Orignal :',name)\n",
    "print('After_Changed_Copied :',names)"
   ]
  },
  {
   "cell_type": "code",
   "execution_count": 58,
   "id": "26090dd6",
   "metadata": {},
   "outputs": [
    {
     "name": "stdout",
     "output_type": "stream",
     "text": [
      "['SOHAIL', 'danyal', 'hamza', 'mehran', 'zakriya', 'sohail', 'danyal', 'hamza', 'mehran', 'zakriya']\n"
     ]
    }
   ],
   "source": [
    "name.extend(names)\n",
    "print(name)"
   ]
  },
  {
   "cell_type": "code",
   "execution_count": 60,
   "id": "c93bcbe3",
   "metadata": {},
   "outputs": [
    {
     "name": "stdout",
     "output_type": "stream",
     "text": [
      "['SOHAIL', 'danyal', 'hamza', 'mehran', 'zakriya', 'sohail', 'danyal', 'hamza', 'mehran', 'zakriya']\n"
     ]
    }
   ],
   "source": [
    "print(name)"
   ]
  },
  {
   "cell_type": "code",
   "execution_count": 61,
   "id": "0cda0ff1",
   "metadata": {},
   "outputs": [
    {
     "name": "stdout",
     "output_type": "stream",
     "text": [
      "['SOHAIL', 'danyal', 'hamza', 'mehran', 'zakriya', 'sohail', 'danyal', 'hamza', 'mehran', 'zakriya', ['sohail', 'danyal', 'hamza', 'mehran', 'zakriya']]\n"
     ]
    }
   ],
   "source": [
    "name.append(names)\n",
    "print(name)"
   ]
  },
  {
   "cell_type": "code",
   "execution_count": 64,
   "id": "861049e0",
   "metadata": {},
   "outputs": [
    {
     "name": "stdout",
     "output_type": "stream",
     "text": [
      "2\n",
      "5\n"
     ]
    }
   ],
   "source": [
    "print(name.index('hamza'))\n",
    "print(name.index('sohail'))"
   ]
  },
  {
   "cell_type": "code",
   "execution_count": null,
   "id": "29751e8e",
   "metadata": {},
   "outputs": [],
   "source": []
  }
 ],
 "metadata": {
  "kernelspec": {
   "display_name": "Python 3 (ipykernel)",
   "language": "python",
   "name": "python3"
  },
  "language_info": {
   "codemirror_mode": {
    "name": "ipython",
    "version": 3
   },
   "file_extension": ".py",
   "mimetype": "text/x-python",
   "name": "python",
   "nbconvert_exporter": "python",
   "pygments_lexer": "ipython3",
   "version": "3.9.12"
  }
 },
 "nbformat": 4,
 "nbformat_minor": 5
}
