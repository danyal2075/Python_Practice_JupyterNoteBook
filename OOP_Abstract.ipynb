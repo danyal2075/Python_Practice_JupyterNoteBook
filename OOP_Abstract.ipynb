{
 "cells": [
  {
   "cell_type": "markdown",
   "id": "b42f3321",
   "metadata": {},
   "source": [
    "# Abstract\n",
    "    * we cannot create directly object from this class, we can use all attributes and methods via inheritance"
   ]
  },
  {
   "cell_type": "code",
   "execution_count": 8,
   "id": "d96469d0",
   "metadata": {},
   "outputs": [
    {
     "data": {
      "text/plain": [
       "['age', 'hello', 'name']"
      ]
     },
     "execution_count": 8,
     "metadata": {},
     "output_type": "execute_result"
    }
   ],
   "source": [
    "from abc import ABC, abstractmethod\n",
    "class Human(ABC):\n",
    "    @abstractmethod\n",
    "    def __init__(self, name, age):\n",
    "        self.name = name\n",
    "        self.age = age\n",
    "    def hello(self):\n",
    "        return 'Hello World' \n",
    "    \n",
    "class Male(Human):\n",
    "    def __init__(self, name, age):\n",
    "        self.name = name\n",
    "        self.age = age\n",
    "        \n",
    "# h1 = Human('sohail', '28' ) # we cannot make object of this human class because it is abstract class\n",
    "m1 = Male('Sohail', '28')\n",
    "[i for i in dir(m1) if '_' not in i]\n"
   ]
  },
  {
   "cell_type": "code",
   "execution_count": 9,
   "id": "1babd633",
   "metadata": {},
   "outputs": [
    {
     "data": {
      "text/plain": [
       "'Hello World'"
      ]
     },
     "execution_count": 9,
     "metadata": {},
     "output_type": "execute_result"
    }
   ],
   "source": [
    "m1.hello()"
   ]
  },
  {
   "cell_type": "code",
   "execution_count": null,
   "id": "2ec5f4b7",
   "metadata": {},
   "outputs": [],
   "source": []
  }
 ],
 "metadata": {
  "kernelspec": {
   "display_name": "Python 3 (ipykernel)",
   "language": "python",
   "name": "python3"
  },
  "language_info": {
   "codemirror_mode": {
    "name": "ipython",
    "version": 3
   },
   "file_extension": ".py",
   "mimetype": "text/x-python",
   "name": "python",
   "nbconvert_exporter": "python",
   "pygments_lexer": "ipython3",
   "version": "3.9.12"
  }
 },
 "nbformat": 4,
 "nbformat_minor": 5
}
