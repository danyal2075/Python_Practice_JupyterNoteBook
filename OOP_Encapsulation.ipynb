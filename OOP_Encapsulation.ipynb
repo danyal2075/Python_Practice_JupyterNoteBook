{
 "cells": [
  {
   "cell_type": "markdown",
   "id": "9f7373f6",
   "metadata": {},
   "source": [
    "# Encapsulation\n",
    "* Private variables or methods that cannot be accessable outside of the class. if you want to access then we have to create setter and getter functions.\n",
    "    * varaibles\n",
    "    * Attributes"
   ]
  },
  {
   "cell_type": "code",
   "execution_count": 7,
   "id": "76ef2e92",
   "metadata": {},
   "outputs": [
    {
     "name": "stdout",
     "output_type": "stream",
     "text": [
      "Sohail\n",
      "Danyal\n"
     ]
    }
   ],
   "source": [
    "class Facebook():\n",
    "    def __init__(self,user):\n",
    "        self.user = user\n",
    "        self.__password = '123'\n",
    "        self.__email = None\n",
    "\n",
    "u1 = Facebook('Sohail')\n",
    "u2 = Facebook('Danyal')\n",
    "\n",
    "print(u1.user)\n",
    "print(u2.user)\n"
   ]
  },
  {
   "cell_type": "code",
   "execution_count": 23,
   "id": "5d6fcf47",
   "metadata": {},
   "outputs": [
    {
     "ename": "AttributeError",
     "evalue": "'Facebook' object has no attribute 'password'",
     "output_type": "error",
     "traceback": [
      "\u001b[1;31m---------------------------------------------------------------------------\u001b[0m",
      "\u001b[1;31mAttributeError\u001b[0m                            Traceback (most recent call last)",
      "Input \u001b[1;32mIn [23]\u001b[0m, in \u001b[0;36m<cell line: 2>\u001b[1;34m()\u001b[0m\n\u001b[0;32m      1\u001b[0m \u001b[38;5;66;03m# We cannot access these variables because these are private\u001b[39;00m\n\u001b[1;32m----> 2\u001b[0m \u001b[38;5;28mprint\u001b[39m(\u001b[43mu1\u001b[49m\u001b[38;5;241;43m.\u001b[39;49m\u001b[43mpassword\u001b[49m)\n\u001b[0;32m      3\u001b[0m \u001b[38;5;28mprint\u001b[39m(u1\u001b[38;5;241m.\u001b[39memail)\n",
      "\u001b[1;31mAttributeError\u001b[0m: 'Facebook' object has no attribute 'password'"
     ]
    }
   ],
   "source": [
    "# We cannot access these variables because these are private\n",
    "print(u1.password)\n",
    "print(u1.email)"
   ]
  },
  {
   "cell_type": "markdown",
   "id": "051cb804",
   "metadata": {},
   "source": [
    "# This is how we access the private varaibles"
   ]
  },
  {
   "cell_type": "code",
   "execution_count": 10,
   "id": "0ee2de9f",
   "metadata": {},
   "outputs": [
    {
     "data": {
      "text/plain": [
       "'123'"
      ]
     },
     "execution_count": 10,
     "metadata": {},
     "output_type": "execute_result"
    }
   ],
   "source": [
    "u1._Facebook__password "
   ]
  },
  {
   "cell_type": "markdown",
   "id": "900c8ecd",
   "metadata": {},
   "source": [
    "# Setter And Getter"
   ]
  },
  {
   "cell_type": "code",
   "execution_count": 16,
   "id": "662f3c51",
   "metadata": {},
   "outputs": [
    {
     "name": "stdout",
     "output_type": "stream",
     "text": [
      " \n",
      "        Welcome Dear Sohail\n",
      "        Your registration emial is None\n",
      "        and your current pasword is 123\n",
      "        \n",
      " \n",
      "        Welcome Dear Sohail\n",
      "        Your registration emial is abc@gmail.com\n",
      "        and your current pasword is smile\n",
      "        \n"
     ]
    }
   ],
   "source": [
    "class Facebook():\n",
    "    def __init__(self,user):\n",
    "        self.user = user\n",
    "        self.__password = '123'\n",
    "        self.__email = None\n",
    "        \n",
    "        # Below method is setter becuase this update theprivate variables\n",
    "        #setter Method\n",
    "    def update(self,new_password, new_email):\n",
    "        self.__password = new_password\n",
    "        self.__email = new_email\n",
    "        \n",
    "        # Getter Method\n",
    "    def display_inof(self):\n",
    "        return f''' \n",
    "        Welcome Dear {self.user}\n",
    "        Your registration emial is {self.__email}\n",
    "        and your current pasword is {self.__password}\n",
    "        '''\n",
    "    \n",
    "u1 = Facebook('Sohail')\n",
    "print(u1.display_inof())\n",
    "u1.update('smile', 'abc@gmail.com')\n",
    "print(u1.display_inof())\n"
   ]
  },
  {
   "cell_type": "markdown",
   "id": "5e4d7ffb",
   "metadata": {},
   "source": [
    "# private method and then how to access it "
   ]
  },
  {
   "cell_type": "code",
   "execution_count": 21,
   "id": "d1df8225",
   "metadata": {},
   "outputs": [
    {
     "name": "stdout",
     "output_type": "stream",
     "text": [
      " \n",
      "        Welcome Dear Sohail\n",
      "        Your registration emial is None\n",
      "        and your current pasword is 123\n",
      "        DBInfo : All connectivity sensitive information \n",
      "        \n",
      " \n",
      "        Welcome Dear Sohail\n",
      "        Your registration emial is abc@gmail.com\n",
      "        and your current pasword is smile\n",
      "        DBInfo : All connectivity sensitive information \n",
      "        \n"
     ]
    }
   ],
   "source": [
    "class Facebook():\n",
    "    def __init__(self,user):\n",
    "        self.user = user \n",
    "        self.__password = '123'\n",
    "        self.__email = None\n",
    "        \n",
    "        # Private method\n",
    "    def __connectionDB(self):\n",
    "        return 'All connectivity sensitive information'\n",
    "        \n",
    "        # Below method is setter becuase this update theprivate variables\n",
    "        #setter Method\n",
    "    def update(self,new_password, new_email):\n",
    "        self.__password = new_password\n",
    "        self.__email = new_email\n",
    "        \n",
    "        # Getter Method\n",
    "    def display_inof(self):\n",
    "        a = self.__connectionDB() # Here we call the method in the class \n",
    "        return f''' \n",
    "        Welcome Dear {self.user}\n",
    "        Your registration emial is {self.__email}\n",
    "        and your current pasword is {self.__password}\n",
    "        DBInfo : {a} \n",
    "        '''\n",
    "    \n",
    "    \n",
    "u1 = Facebook('Sohail')\n",
    "print(u1.display_inof())\n",
    "u1.update('smile', 'abc@gmail.com')\n",
    "print(u1.display_inof())"
   ]
  },
  {
   "cell_type": "code",
   "execution_count": null,
   "id": "0eac9945",
   "metadata": {},
   "outputs": [],
   "source": []
  }
 ],
 "metadata": {
  "kernelspec": {
   "display_name": "Python 3 (ipykernel)",
   "language": "python",
   "name": "python3"
  },
  "language_info": {
   "codemirror_mode": {
    "name": "ipython",
    "version": 3
   },
   "file_extension": ".py",
   "mimetype": "text/x-python",
   "name": "python",
   "nbconvert_exporter": "python",
   "pygments_lexer": "ipython3",
   "version": "3.9.12"
  }
 },
 "nbformat": 4,
 "nbformat_minor": 5
}
