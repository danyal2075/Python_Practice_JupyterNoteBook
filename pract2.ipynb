{
 "cells": [
  {
   "cell_type": "markdown",
   "id": "8d9e226f",
   "metadata": {},
   "source": [
    "# List"
   ]
  },
  {
   "cell_type": "code",
   "execution_count": 13,
   "id": "68f3fd06",
   "metadata": {},
   "outputs": [
    {
     "name": "stdout",
     "output_type": "stream",
     "text": [
      "['qasim', 'sohail', 'danyal', 'hamza', 'mehran']\n"
     ]
    }
   ],
   "source": [
    "list = ['qasim', 'sohail', 'danyal','hamza','mehran']\n",
    "print(list)"
   ]
  },
  {
   "cell_type": "code",
   "execution_count": 15,
   "id": "a7291eb7",
   "metadata": {},
   "outputs": [
    {
     "name": "stdout",
     "output_type": "stream",
     "text": [
      "sohail\n",
      "danyal\n"
     ]
    }
   ],
   "source": [
    "print(list[1])\n",
    "print(list[-3])"
   ]
  },
  {
   "cell_type": "markdown",
   "id": "672ae577",
   "metadata": {},
   "source": [
    "# list access and changing values of specific values"
   ]
  },
  {
   "cell_type": "code",
   "execution_count": 24,
   "id": "b6b0552a",
   "metadata": {},
   "outputs": [
    {
     "name": "stdout",
     "output_type": "stream",
     "text": [
      "Before : ['qasim', 'sohail', 'danyal', 'hamza', 'mehran']\n",
      "After : ['qasim', 'sohail', 'Zakriya', 'hamza', 'mehran']\n"
     ]
    }
   ],
   "source": [
    "list = ['qasim', 'sohail', 'danyal','hamza','mehran']\n",
    "print('Before :' ,list)\n",
    "list[2] = 'Zakriya'\n",
    "print('After :' , list)"
   ]
  },
  {
   "cell_type": "code",
   "execution_count": null,
   "id": "04a928fb",
   "metadata": {},
   "outputs": [],
   "source": []
  },
  {
   "cell_type": "markdown",
   "id": "477bb193",
   "metadata": {},
   "source": [
    "# Slicing (extract multiple values in sequance)"
   ]
  },
  {
   "cell_type": "code",
   "execution_count": 31,
   "id": "857d08c0",
   "metadata": {},
   "outputs": [
    {
     "name": "stdout",
     "output_type": "stream",
     "text": [
      "['sohail', 'danyal']\n",
      "['qasim', 'sohail', 'danyal', 'hamza']\n"
     ]
    }
   ],
   "source": [
    "list = ['qasim', 'sohail', 'danyal','hamza','mehran']\n",
    "print(list[1:3])\n",
    "print(list[0:4])\n",
    "\n"
   ]
  },
  {
   "cell_type": "markdown",
   "id": "11f184b6",
   "metadata": {},
   "source": [
    "# Before slicing for or while loop was used to access the values"
   ]
  },
  {
   "cell_type": "code",
   "execution_count": 29,
   "id": "3c10c1c9",
   "metadata": {},
   "outputs": [
    {
     "name": "stdout",
     "output_type": "stream",
     "text": [
      "qasim\n",
      "sohail\n",
      "danyal\n",
      "hamza\n",
      "mehran\n"
     ]
    }
   ],
   "source": [
    "list = ['qasim', 'sohail', 'danyal','hamza','mehran']\n",
    "# print(list[1:3])\n",
    "for i in range(len(list)):\n",
    "    print(list[i])"
   ]
  },
  {
   "cell_type": "markdown",
   "id": "94f957bf",
   "metadata": {},
   "source": [
    "# Sequance\n"
   ]
  },
  {
   "cell_type": "code",
   "execution_count": 32,
   "id": "c62e061d",
   "metadata": {},
   "outputs": [
    {
     "name": "stdout",
     "output_type": "stream",
     "text": [
      "['sohail', 'hamza']\n"
     ]
    }
   ],
   "source": [
    "list = ['qasim', 'sohail', 'danyal','hamza','mehran']\n",
    "print(list[1:5:2])"
   ]
  },
  {
   "cell_type": "code",
   "execution_count": 39,
   "id": "e88e5d3e",
   "metadata": {},
   "outputs": [
    {
     "ename": "TypeError",
     "evalue": "'list' object is not callable",
     "output_type": "error",
     "traceback": [
      "\u001b[1;31m---------------------------------------------------------------------------\u001b[0m",
      "\u001b[1;31mTypeError\u001b[0m                                 Traceback (most recent call last)",
      "Input \u001b[1;32mIn [39]\u001b[0m, in \u001b[0;36m<cell line: 1>\u001b[1;34m()\u001b[0m\n\u001b[1;32m----> 1\u001b[0m number  \u001b[38;5;241m=\u001b[39m \u001b[38;5;28;43mlist\u001b[39;49m\u001b[43m(\u001b[49m\u001b[38;5;28;43mrange\u001b[39;49m\u001b[43m(\u001b[49m\u001b[38;5;241;43m1\u001b[39;49m\u001b[43m,\u001b[49m\u001b[38;5;241;43m21\u001b[39;49m\u001b[43m)\u001b[49m\u001b[43m)\u001b[49m\n\u001b[0;32m      2\u001b[0m \u001b[38;5;28mprint\u001b[39m(number)\n",
      "\u001b[1;31mTypeError\u001b[0m: 'list' object is not callable"
     ]
    }
   ],
   "source": [
    "number  = list(range(1,21))\n",
    "print(number)"
   ]
  },
  {
   "cell_type": "code",
   "execution_count": null,
   "id": "0c5ada4f",
   "metadata": {},
   "outputs": [],
   "source": []
  }
 ],
 "metadata": {
  "kernelspec": {
   "display_name": "Python 3 (ipykernel)",
   "language": "python",
   "name": "python3"
  },
  "language_info": {
   "codemirror_mode": {
    "name": "ipython",
    "version": 3
   },
   "file_extension": ".py",
   "mimetype": "text/x-python",
   "name": "python",
   "nbconvert_exporter": "python",
   "pygments_lexer": "ipython3",
   "version": "3.9.12"
  }
 },
 "nbformat": 4,
 "nbformat_minor": 5
}
