{
 "cells": [
  {
   "cell_type": "code",
   "execution_count": 2,
   "id": "04a87cf3",
   "metadata": {},
   "outputs": [],
   "source": [
    "import pyautogui\n",
    "import schedule\n",
    "import time"
   ]
  },
  {
   "cell_type": "code",
   "execution_count": 3,
   "id": "5a65b374",
   "metadata": {},
   "outputs": [
    {
     "data": {
      "text/plain": [
       "Size(width=1920, height=1080)"
      ]
     },
     "execution_count": 3,
     "metadata": {},
     "output_type": "execute_result"
    }
   ],
   "source": [
    "pyautogui.size()"
   ]
  },
  {
   "cell_type": "code",
   "execution_count": 6,
   "id": "2bd851dc",
   "metadata": {},
   "outputs": [
    {
     "name": "stdout",
     "output_type": "stream",
     "text": [
      "THis is runnnng\n"
     ]
    }
   ],
   "source": [
    "def automate():\n",
    "    pyautogui.moveTo(23, 1054)\n",
    "    pyautogui.click()\n",
    "    # pyautogui.PAUSE(.3)\n",
    "    pyautogui.write('chrome', interval=0.25)\n",
    "    pyautogui.press('enter')\n",
    "    pyautogui.moveTo(301,77,0.25)\n",
    "    pyautogui.click()\n",
    "    pyautogui.write('http://webmail.tu-ilmenau.de/?_task=login&_err=session')\n",
    "    pyautogui.press('enter')\n",
    "    pyautogui.moveTo(937,596,1)\n",
    "    pyautogui.click()\n",
    "    pyautogui.moveTo(x=404, y=31)\n",
    "    pyautogui.click()\n",
    "    pyautogui.write('http://moodle2.tu-ilmenau.de/my/')\n",
    "    pyautogui.press('enter')\n",
    "    pyautogui.moveTo(x=1283, y=713)\n",
    "    pyautogui.click()\n",
    "    print('THis is runnnng')\n",
    "automate()\n",
    "    # pyautogui.press('enter')\n",
    "# schedule.every().day.at(\"02:17\").do(automate)\n",
    "# while True:\n",
    "#     schedule.run_pending()\n",
    "#     time.sleep(0)"
   ]
  },
  {
   "cell_type": "code",
   "execution_count": 38,
   "id": "d8484ed8",
   "metadata": {},
   "outputs": [
    {
     "data": {
      "text/plain": [
       "Point(x=1283, y=713)"
      ]
     },
     "execution_count": 38,
     "metadata": {},
     "output_type": "execute_result"
    }
   ],
   "source": [
    "pyautogui.position()"
   ]
  },
  {
   "cell_type": "code",
   "execution_count": 4,
   "id": "cf12b85b",
   "metadata": {},
   "outputs": [
    {
     "name": "stdout",
     "output_type": "stream",
     "text": [
      "Like my videos\n",
      "Like my videos\n",
      "Like my videos\n",
      "Like my videos\n",
      "Like my videos\n",
      "Like my videos\n"
     ]
    },
    {
     "ename": "KeyboardInterrupt",
     "evalue": "",
     "output_type": "error",
     "traceback": [
      "\u001b[1;31m---------------------------------------------------------------------------\u001b[0m",
      "\u001b[1;31mKeyboardInterrupt\u001b[0m                         Traceback (most recent call last)",
      "Input \u001b[1;32mIn [4]\u001b[0m, in \u001b[0;36m<cell line: 5>\u001b[1;34m()\u001b[0m\n\u001b[0;32m      4\u001b[0m \u001b[38;5;28;01mwhile\u001b[39;00m \u001b[38;5;241m1\u001b[39m:\n\u001b[0;32m      5\u001b[0m     schedule\u001b[38;5;241m.\u001b[39mrun_pending()\n\u001b[1;32m----> 6\u001b[0m     \u001b[43mtime\u001b[49m\u001b[38;5;241;43m.\u001b[39;49m\u001b[43msleep\u001b[49m\u001b[43m(\u001b[49m\u001b[38;5;241;43m0\u001b[39;49m\u001b[43m)\u001b[49m\n",
      "\u001b[1;31mKeyboardInterrupt\u001b[0m: "
     ]
    }
   ],
   "source": [
    "def show():\n",
    "    print('Like my videos')\n",
    "schedule.every(10).seconds.do(show)\n",
    "while 1:\n",
    "    schedule.run_pending()\n",
    "    time.sleep(0)"
   ]
  },
  {
   "cell_type": "code",
   "execution_count": null,
   "id": "617bcfe2",
   "metadata": {},
   "outputs": [],
   "source": []
  }
 ],
 "metadata": {
  "kernelspec": {
   "display_name": "Python 3 (ipykernel)",
   "language": "python",
   "name": "python3"
  },
  "language_info": {
   "codemirror_mode": {
    "name": "ipython",
    "version": 3
   },
   "file_extension": ".py",
   "mimetype": "text/x-python",
   "name": "python",
   "nbconvert_exporter": "python",
   "pygments_lexer": "ipython3",
   "version": "3.9.12"
  }
 },
 "nbformat": 4,
 "nbformat_minor": 5
}
