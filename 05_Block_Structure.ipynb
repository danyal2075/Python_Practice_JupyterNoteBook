{
 "cells": [
  {
   "cell_type": "markdown",
   "id": "4a285745",
   "metadata": {},
   "source": [
    "# Control Structure\n",
    "    \n",
    "* if \n",
    "    * else \n",
    "    * elif\n",
    "    * finally\n",
    "    * and not is in\n",
    "* while\n",
    "    *break\n",
    "    *continue\n",
    "    *pass\n",
    "* for \n",
    "    *break\n",
    "    *continue\n",
    "    \n",
    "* try\n",
    "    *except\n",
    "    \n",
    "* def\n",
    "* class\n",
    "    \n",
    "    "
   ]
  },
  {
   "cell_type": "markdown",
   "id": "7349f0fd",
   "metadata": {},
   "source": [
    "# if"
   ]
  },
  {
   "cell_type": "code",
   "execution_count": 1,
   "id": "eb5dff6a",
   "metadata": {},
   "outputs": [
    {
     "name": "stdout",
     "output_type": "stream",
     "text": [
      "pakistan\n"
     ]
    }
   ],
   "source": [
    "if True:\n",
    "    print('pakistan')"
   ]
  },
  {
   "cell_type": "code",
   "execution_count": 2,
   "id": "b6e5ad86",
   "metadata": {},
   "outputs": [],
   "source": [
    "if False:\n",
    "    print('Pak')"
   ]
  },
  {
   "cell_type": "code",
   "execution_count": 3,
   "id": "1a40f5b8",
   "metadata": {},
   "outputs": [
    {
     "name": "stdout",
     "output_type": "stream",
     "text": [
      "pka\n"
     ]
    }
   ],
   "source": [
    "if True:\n",
    "    print(\"pka\")\n",
    "else:\n",
    "    print('USA')"
   ]
  },
  {
   "cell_type": "code",
   "execution_count": 4,
   "id": "8cd18654",
   "metadata": {},
   "outputs": [
    {
     "name": "stdout",
     "output_type": "stream",
     "text": [
      "USA\n"
     ]
    }
   ],
   "source": [
    "if False:\n",
    "    print(\"pka\")\n",
    "else:\n",
    "    print('USA')"
   ]
  },
  {
   "cell_type": "code",
   "execution_count": 9,
   "id": "7d61b3c2",
   "metadata": {},
   "outputs": [
    {
     "name": "stdout",
     "output_type": "stream",
     "text": [
      "Enter usersohail\n",
      "valid name\n"
     ]
    }
   ],
   "source": [
    "name  = input('Enter user')\n",
    "if name == \"sohail\":\n",
    "    print('valid name')\n",
    "else:\n",
    "    print(\"Invalid Name\")"
   ]
  },
  {
   "cell_type": "code",
   "execution_count": 11,
   "id": "6ad90f01",
   "metadata": {},
   "outputs": [
    {
     "name": "stdout",
     "output_type": "stream",
     "text": [
      "Enter the value85\n",
      "B+\n"
     ]
    }
   ],
   "source": [
    "per = int(input('Enter the value'))\n",
    "if per >= 90:\n",
    "    print('A+')\n",
    "elif per >= 80:\n",
    "    print('B+')\n",
    "elif per >=70:\n",
    "    print('C+')\n",
    "else:\n",
    "    print('YOu are failed')"
   ]
  },
  {
   "cell_type": "code",
   "execution_count": 13,
   "id": "87a9621c",
   "metadata": {},
   "outputs": [
    {
     "name": "stdout",
     "output_type": "stream",
     "text": [
      "a, b, c,34, pakistan\n"
     ]
    },
    {
     "data": {
      "text/plain": [
       "['a', ' b', ' c', '34', ' pakistan']"
      ]
     },
     "execution_count": 13,
     "metadata": {},
     "output_type": "execute_result"
    }
   ],
   "source": [
    "a = 'a, b, c,34, pakistan'\n",
    "print(a)\n",
    "a.split(\",\")"
   ]
  },
  {
   "cell_type": "code",
   "execution_count": null,
   "id": "8a520f5d",
   "metadata": {},
   "outputs": [],
   "source": []
  }
 ],
 "metadata": {
  "kernelspec": {
   "display_name": "Python 3 (ipykernel)",
   "language": "python",
   "name": "python3"
  },
  "language_info": {
   "codemirror_mode": {
    "name": "ipython",
    "version": 3
   },
   "file_extension": ".py",
   "mimetype": "text/x-python",
   "name": "python",
   "nbconvert_exporter": "python",
   "pygments_lexer": "ipython3",
   "version": "3.9.12"
  }
 },
 "nbformat": 4,
 "nbformat_minor": 5
}
