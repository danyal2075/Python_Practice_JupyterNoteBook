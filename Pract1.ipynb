{
 "cells": [
  {
   "cell_type": "code",
   "execution_count": 2,
   "id": "1c2c7ac1",
   "metadata": {},
   "outputs": [
    {
     "name": "stdout",
     "output_type": "stream",
     "text": [
      "sohail <class 'str'>\n"
     ]
    }
   ],
   "source": [
    "a = 'sohail'\n",
    "print(a , type(a))"
   ]
  },
  {
   "cell_type": "code",
   "execution_count": 3,
   "id": "d55f8005",
   "metadata": {},
   "outputs": [
    {
     "name": "stdout",
     "output_type": "stream",
     "text": [
      "sohail \n",
      " qamar \n"
     ]
    }
   ],
   "source": [
    "a = 'sohail \\n qamar '\n",
    "print(a\n",
    "     )"
   ]
  },
  {
   "cell_type": "code",
   "execution_count": 4,
   "id": "ba6388c3",
   "metadata": {},
   "outputs": [
    {
     "name": "stdout",
     "output_type": "stream",
     "text": [
      "\n",
      "Name    :  Sohail\n",
      "Father  :  Qamar\n",
      "\n"
     ]
    }
   ],
   "source": [
    "data = \"\"\"\n",
    "Name    :  Sohail\n",
    "Father  :  Qamar\n",
    "\"\"\"\n",
    "print(data)"
   ]
  },
  {
   "cell_type": "code",
   "execution_count": 7,
   "id": "be0c489d",
   "metadata": {},
   "outputs": [
    {
     "name": "stdout",
     "output_type": "stream",
     "text": [
      "sohail danyal\n",
      "sohail\n",
      "danyal\n"
     ]
    }
   ],
   "source": [
    "name = 'sohail'\n",
    "last = 'danyal'\n",
    "print(name, last)\n",
    "print(name, last, sep = '\\n')"
   ]
  },
  {
   "cell_type": "code",
   "execution_count": 17,
   "id": "1da410ab",
   "metadata": {},
   "outputs": [
    {
     "name": "stdout",
     "output_type": "stream",
     "text": [
      "Name sohail danyal\n",
      "last danyal\n",
      "Father qamar\n",
      "Brother hamza\n"
     ]
    }
   ],
   "source": [
    "name = 'sohail danyal'\n",
    "last = 'danyal'\n",
    "father = 'qamar'\n",
    "brother = 'hamza'\n",
    "print('Name '+ name, 'last '+ last, 'Father '+ father , 'Brother '+brother ,sep='\\n')"
   ]
  },
  {
   "cell_type": "code",
   "execution_count": 18,
   "id": "8eef5644",
   "metadata": {},
   "outputs": [
    {
     "data": {
      "text/plain": [
       "'Sohail danyal'"
      ]
     },
     "execution_count": 18,
     "metadata": {},
     "output_type": "execute_result"
    }
   ],
   "source": [
    "name.capitalize()"
   ]
  },
  {
   "cell_type": "code",
   "execution_count": 19,
   "id": "d6419789",
   "metadata": {},
   "outputs": [
    {
     "data": {
      "text/plain": [
       "3"
      ]
     },
     "execution_count": 19,
     "metadata": {},
     "output_type": "execute_result"
    }
   ],
   "source": [
    "name.count('a')"
   ]
  },
  {
   "cell_type": "code",
   "execution_count": 20,
   "id": "174b04b0",
   "metadata": {},
   "outputs": [
    {
     "data": {
      "text/plain": [
       "1"
      ]
     },
     "execution_count": 20,
     "metadata": {},
     "output_type": "execute_result"
    }
   ],
   "source": [
    "name.find('o')"
   ]
  },
  {
   "cell_type": "code",
   "execution_count": 21,
   "id": "20d0cfea",
   "metadata": {},
   "outputs": [
    {
     "data": {
      "text/plain": [
       "3"
      ]
     },
     "execution_count": 21,
     "metadata": {},
     "output_type": "execute_result"
    }
   ],
   "source": [
    "name.find('a') # it gives the index of the alphabet"
   ]
  },
  {
   "cell_type": "code",
   "execution_count": 22,
   "id": "3a310de2",
   "metadata": {},
   "outputs": [
    {
     "data": {
      "text/plain": [
       "8"
      ]
     },
     "execution_count": 22,
     "metadata": {},
     "output_type": "execute_result"
    }
   ],
   "source": [
    " name.find('a',5)"
   ]
  },
  {
   "cell_type": "code",
   "execution_count": 23,
   "id": "a71f57fa",
   "metadata": {},
   "outputs": [
    {
     "data": {
      "text/plain": [
       "'sohai'"
      ]
     },
     "execution_count": 23,
     "metadata": {},
     "output_type": "execute_result"
    }
   ],
   "source": [
    "name[0:5] # slicing "
   ]
  },
  {
   "cell_type": "code",
   "execution_count": null,
   "id": "1d5ef6a8",
   "metadata": {},
   "outputs": [],
   "source": []
  }
 ],
 "metadata": {
  "kernelspec": {
   "display_name": "Python 3 (ipykernel)",
   "language": "python",
   "name": "python3"
  },
  "language_info": {
   "codemirror_mode": {
    "name": "ipython",
    "version": 3
   },
   "file_extension": ".py",
   "mimetype": "text/x-python",
   "name": "python",
   "nbconvert_exporter": "python",
   "pygments_lexer": "ipython3",
   "version": "3.9.12"
  }
 },
 "nbformat": 4,
 "nbformat_minor": 5
}
