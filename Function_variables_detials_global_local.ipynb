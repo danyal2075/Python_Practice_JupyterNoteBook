{
 "cells": [
  {
   "cell_type": "markdown",
   "id": "9542fe0a",
   "metadata": {},
   "source": [
    "# Accessing local variable outside if the def \n",
    "we cannot access the function variable outside of the function untill you donot call the function.\n",
    "another way to access the local variable by making it global variable.\n",
    "we can access global variable anywhere even inside the funciton."
   ]
  },
  {
   "cell_type": "code",
   "execution_count": 16,
   "id": "04e1b757",
   "metadata": {},
   "outputs": [
    {
     "name": "stdout",
     "output_type": "stream",
     "text": [
      "5 4 2\n",
      "(56, 87, 98)\n",
      "3\n",
      "5 4 98\n"
     ]
    }
   ],
   "source": [
    "a = 5\n",
    "b = 4\n",
    "x = 3 \n",
    "c = 2\n",
    "def abc():\n",
    "    a = 56\n",
    "    b = 87\n",
    "    global c \n",
    "    c = 98\n",
    "    \n",
    "    return a,b,c\n",
    "def xyz():\n",
    "    return x \n",
    "print(a,b,c)\n",
    "print(abc())\n",
    "print(xyz())\n",
    "print(a,b,c)\n"
   ]
  },
  {
   "cell_type": "code",
   "execution_count": null,
   "id": "075b558d",
   "metadata": {},
   "outputs": [],
   "source": []
  }
 ],
 "metadata": {
  "kernelspec": {
   "display_name": "Python 3 (ipykernel)",
   "language": "python",
   "name": "python3"
  },
  "language_info": {
   "codemirror_mode": {
    "name": "ipython",
    "version": 3
   },
   "file_extension": ".py",
   "mimetype": "text/x-python",
   "name": "python",
   "nbconvert_exporter": "python",
   "pygments_lexer": "ipython3",
   "version": "3.9.12"
  }
 },
 "nbformat": 4,
 "nbformat_minor": 5
}
