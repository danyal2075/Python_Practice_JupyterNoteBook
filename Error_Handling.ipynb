{
 "cells": [
  {
   "cell_type": "markdown",
   "id": "b1b90163",
   "metadata": {},
   "source": [
    "# Error Handling\n",
    "\n",
    "* Compile time error:\n",
    "    * During error\n",
    "* Logical Error:\n",
    "    *  Bussiness Logic error\n",
    "* Run time Error"
   ]
  },
  {
   "cell_type": "markdown",
   "id": "c70f3cc4",
   "metadata": {},
   "source": [
    "# Complie Time Error\n"
   ]
  },
  {
   "cell_type": "code",
   "execution_count": 2,
   "id": "eef11fa0",
   "metadata": {},
   "outputs": [
    {
     "ename": "IndexError",
     "evalue": "list index out of range",
     "output_type": "error",
     "traceback": [
      "\u001b[1;31m---------------------------------------------------------------------------\u001b[0m",
      "\u001b[1;31mIndexError\u001b[0m                                Traceback (most recent call last)",
      "Input \u001b[1;32mIn [2]\u001b[0m, in \u001b[0;36m<cell line: 2>\u001b[1;34m()\u001b[0m\n\u001b[0;32m      1\u001b[0m l \u001b[38;5;241m=\u001b[39m [\u001b[38;5;241m1\u001b[39m,\u001b[38;5;241m2\u001b[39m]\n\u001b[1;32m----> 2\u001b[0m \u001b[43ml\u001b[49m\u001b[43m[\u001b[49m\u001b[38;5;241;43m7\u001b[39;49m\u001b[43m]\u001b[49m\n",
      "\u001b[1;31mIndexError\u001b[0m: list index out of range"
     ]
    }
   ],
   "source": [
    "l = [1,2]\n",
    "l[7]"
   ]
  },
  {
   "cell_type": "markdown",
   "id": "a03dda4f",
   "metadata": {},
   "source": [
    "# Logical error"
   ]
  },
  {
   "cell_type": "code",
   "execution_count": 4,
   "id": "edbce930",
   "metadata": {},
   "outputs": [
    {
     "name": "stdout",
     "output_type": "stream",
     "text": [
      "14\n"
     ]
    }
   ],
   "source": [
    "def abc(x,y):\n",
    "    return x + x\n",
    "print(abc(7, 9)) # this kind of error can be remove via testing"
   ]
  },
  {
   "cell_type": "markdown",
   "id": "c3a379e7",
   "metadata": {},
   "source": [
    "# Run time error"
   ]
  },
  {
   "cell_type": "code",
   "execution_count": 1,
   "id": "3210ac81",
   "metadata": {},
   "outputs": [
    {
     "name": "stdout",
     "output_type": "stream",
     "text": [
      "line1\n",
      "line2\n"
     ]
    },
    {
     "ename": "NameError",
     "evalue": "name 'abc' is not defined",
     "output_type": "error",
     "traceback": [
      "\u001b[1;31m---------------------------------------------------------------------------\u001b[0m",
      "\u001b[1;31mNameError\u001b[0m                                 Traceback (most recent call last)",
      "Input \u001b[1;32mIn [1]\u001b[0m, in \u001b[0;36m<cell line: 3>\u001b[1;34m()\u001b[0m\n\u001b[0;32m      1\u001b[0m \u001b[38;5;28mprint\u001b[39m(\u001b[38;5;124m'\u001b[39m\u001b[38;5;124mline1\u001b[39m\u001b[38;5;124m'\u001b[39m)\n\u001b[0;32m      2\u001b[0m \u001b[38;5;28mprint\u001b[39m(\u001b[38;5;124m'\u001b[39m\u001b[38;5;124mline2\u001b[39m\u001b[38;5;124m'\u001b[39m)\n\u001b[1;32m----> 3\u001b[0m \u001b[38;5;28mprint\u001b[39m(\u001b[43mabc\u001b[49m)\n\u001b[0;32m      4\u001b[0m \u001b[38;5;28mprint\u001b[39m(\u001b[38;5;124m'\u001b[39m\u001b[38;5;124mline3\u001b[39m\u001b[38;5;124m'\u001b[39m)\n\u001b[0;32m      5\u001b[0m \u001b[38;5;28mprint\u001b[39m(\u001b[38;5;124m'\u001b[39m\u001b[38;5;124mline4\u001b[39m\u001b[38;5;124m'\u001b[39m)\n",
      "\u001b[1;31mNameError\u001b[0m: name 'abc' is not defined"
     ]
    }
   ],
   "source": [
    "print('line1')\n",
    "print('line2')\n",
    "print(abc)\n",
    "print('line3')\n",
    "print('line4')"
   ]
  },
  {
   "cell_type": "markdown",
   "id": "23004886",
   "metadata": {},
   "source": [
    "# Error Handling Run time"
   ]
  },
  {
   "cell_type": "code",
   "execution_count": 2,
   "id": "8b2c863e",
   "metadata": {},
   "outputs": [
    {
     "name": "stdout",
     "output_type": "stream",
     "text": [
      "Invalid denomenator\n",
      "The code is passed\n"
     ]
    }
   ],
   "source": [
    "a = 2\n",
    "b = 0\n",
    "try:\n",
    "    print(a/b)\n",
    "except (ZeroDivisionError):\n",
    "    print(\"Invalid denomenator\")\n",
    "print('The code is passed')"
   ]
  },
  {
   "cell_type": "code",
   "execution_count": 3,
   "id": "dca64584",
   "metadata": {},
   "outputs": [
    {
     "name": "stdout",
     "output_type": "stream",
     "text": [
      "0.4\n",
      "The code is passed\n"
     ]
    }
   ],
   "source": [
    "a = 2\n",
    "b = 5\n",
    "try:\n",
    "    print(a / b)\n",
    "except (ZeroDivisionError):\n",
    "    print(\"Invalid denomenator\")\n",
    "print('The code is passed')"
   ]
  },
  {
   "cell_type": "code",
   "execution_count": 8,
   "id": "d738d6f6",
   "metadata": {},
   "outputs": [
    {
     "name": "stdout",
     "output_type": "stream",
     "text": [
      "Start\n",
      "Wrote something wrong\n",
      "End\n"
     ]
    }
   ],
   "source": [
    "print('Start')\n",
    "a = 2\n",
    "b = 0\n",
    "l = [1,2]\n",
    "\n",
    "# print(a/b)\n",
    "# print(l[4])\n",
    "# open('abs.csv')\n",
    "try:\n",
    "    print(a/b)\n",
    "    print(l[4])\n",
    "    open('abs.csv')\n",
    "except (ZeroDivisionError,IndexError,FileNotFoundError):\n",
    "    print('Wrote something wrong')\n",
    "    \n",
    "print('End')\n",
    "\n",
    "\n"
   ]
  },
  {
   "cell_type": "code",
   "execution_count": 13,
   "id": "0ccb112a",
   "metadata": {},
   "outputs": [
    {
     "name": "stdout",
     "output_type": "stream",
     "text": [
      "Start\n",
      "Please remove zero from denomenator\n",
      "Index Error\n",
      "File path is wrong\n",
      "End\n"
     ]
    }
   ],
   "source": [
    "print('Start')\n",
    "a = 2\n",
    "b = 0\n",
    "l = [1,2]\n",
    "\n",
    "# print(a/b)\n",
    "# print(l[4])\n",
    "# open('abs.csv')\n",
    "try:\n",
    "    print(a/b)\n",
    "    \n",
    "except (ZeroDivisionError):\n",
    "    print('Please remove zero from denomenator')\n",
    "try:\n",
    "    \n",
    "    print(l[5])\n",
    "except (IndexError):\n",
    "    print('Index Error')\n",
    "try:\n",
    "   \n",
    "    open('abs.csv')\n",
    "except (FileNotFoundError):\n",
    "    print('File path is wrong')\n",
    "print('End')"
   ]
  },
  {
   "cell_type": "markdown",
   "id": "b41e001b",
   "metadata": {},
   "source": [
    "# Dynamic Error"
   ]
  },
  {
   "cell_type": "code",
   "execution_count": 16,
   "id": "acb3261d",
   "metadata": {},
   "outputs": [
    {
     "name": "stdout",
     "output_type": "stream",
     "text": [
      "Start\n",
      "Wrote something wrong\n",
      "End\n"
     ]
    }
   ],
   "source": [
    "print('Start')\n",
    "a = 2\n",
    "b = 0\n",
    "l = [1,2]\n",
    "\n",
    "# print(a/b)\n",
    "# print(l[4])\n",
    "# open('abs.csv')\n",
    "try:\n",
    "    print(a/b)\n",
    "    print(l[4])\n",
    "    open('abs.csv')\n",
    "except:\n",
    "    print('Wrote something wrong')\n",
    "    \n",
    "print('End')"
   ]
  },
  {
   "cell_type": "markdown",
   "id": "2e503542",
   "metadata": {},
   "source": [
    "# dynamic error handling with dynmaic message"
   ]
  },
  {
   "cell_type": "code",
   "execution_count": 2,
   "id": "d5ae28b4",
   "metadata": {},
   "outputs": [
    {
     "name": "stdout",
     "output_type": "stream",
     "text": [
      "Start\n",
      "something Wrong! division by zero\n",
      "End\n"
     ]
    }
   ],
   "source": [
    "print('Start')\n",
    "a = 2\n",
    "b = 0\n",
    "l = [1,2]\n",
    "\n",
    "# print(a/b)\n",
    "# print(l[4])\n",
    "# open('abs.csv')\n",
    "try:\n",
    "    print(a/b)\n",
    "#     print(l[4])\n",
    "#     open('abs.csv')\n",
    "except Exception as e:\n",
    "    print('something Wrong!',e)\n",
    "else: \n",
    "    print('Run if no error')\n",
    "    \n",
    "print('End')"
   ]
  },
  {
   "cell_type": "code",
   "execution_count": 21,
   "id": "3c919105",
   "metadata": {},
   "outputs": [
    {
     "name": "stdout",
     "output_type": "stream",
     "text": [
      "(5, -1)\n"
     ]
    }
   ],
   "source": [
    "def enter(a ,b):\n",
    "#     a = 1\n",
    "#     b = 2\n",
    "    print('Hello World')\n",
    "    c = a+b\n",
    "    d = a-b\n",
    "    return c,d\n",
    "# c = enter(2,3)\n",
    "# print(enter(2, 3))\n",
    "print(c)\n",
    "# print(d)"
   ]
  },
  {
   "cell_type": "code",
   "execution_count": 26,
   "id": "2aa4b027",
   "metadata": {},
   "outputs": [
    {
     "name": "stdout",
     "output_type": "stream",
     "text": [
      "Hello World\n",
      "5\n",
      "-1\n"
     ]
    }
   ],
   "source": [
    "c,d =enter(2,3)\n",
    "print(c)\n",
    "print(d)"
   ]
  },
  {
   "cell_type": "markdown",
   "id": "099cc411",
   "metadata": {},
   "source": [
    "# Create our own exception class"
   ]
  },
  {
   "cell_type": "code",
   "execution_count": 29,
   "id": "281f51ad",
   "metadata": {},
   "outputs": [
    {
     "name": "stdout",
     "output_type": "stream",
     "text": [
      "44 sohail 45\n"
     ]
    },
    {
     "ename": "StudentAgeError",
     "evalue": "Not allowed the enter age",
     "output_type": "error",
     "traceback": [
      "\u001b[1;31m---------------------------------------------------------------------------\u001b[0m",
      "\u001b[1;31mStudentAgeError\u001b[0m                           Traceback (most recent call last)",
      "Input \u001b[1;32mIn [29]\u001b[0m, in \u001b[0;36m<cell line: 12>\u001b[1;34m()\u001b[0m\n\u001b[0;32m     10\u001b[0m s1 \u001b[38;5;241m=\u001b[39m StudentCard(\u001b[38;5;241m45\u001b[39m,\u001b[38;5;124m'\u001b[39m\u001b[38;5;124msohail\u001b[39m\u001b[38;5;124m'\u001b[39m, \u001b[38;5;241m44\u001b[39m)\n\u001b[0;32m     11\u001b[0m \u001b[38;5;28mprint\u001b[39m(s1\u001b[38;5;241m.\u001b[39mage,s1\u001b[38;5;241m.\u001b[39mname,s1\u001b[38;5;241m.\u001b[39mrollnumber)\n\u001b[1;32m---> 12\u001b[0m s2 \u001b[38;5;241m=\u001b[39m \u001b[43mStudentCard\u001b[49m\u001b[43m(\u001b[49m\u001b[38;5;241;43m45\u001b[39;49m\u001b[43m,\u001b[49m\u001b[38;5;124;43m'\u001b[39;49m\u001b[38;5;124;43msohail\u001b[39;49m\u001b[38;5;124;43m'\u001b[39;49m\u001b[43m,\u001b[49m\u001b[43m \u001b[49m\u001b[38;5;241;43m14\u001b[39;49m\u001b[43m)\u001b[49m\n\u001b[0;32m     13\u001b[0m \u001b[38;5;28mprint\u001b[39m(s2\u001b[38;5;241m.\u001b[39mage,s2\u001b[38;5;241m.\u001b[39mname,s2\u001b[38;5;241m.\u001b[39mrollnumber)\n",
      "Input \u001b[1;32mIn [29]\u001b[0m, in \u001b[0;36mStudentCard.__init__\u001b[1;34m(self, rollnumber, name, age)\u001b[0m\n\u001b[0;32m      2\u001b[0m \u001b[38;5;28;01mdef\u001b[39;00m \u001b[38;5;21m__init__\u001b[39m(\u001b[38;5;28mself\u001b[39m,rollnumber,name,age):\n\u001b[0;32m      3\u001b[0m     \u001b[38;5;28;01mif\u001b[39;00m age \u001b[38;5;241m<\u001b[39m \u001b[38;5;241m18\u001b[39m \u001b[38;5;129;01mor\u001b[39;00m age \u001b[38;5;241m>\u001b[39m \u001b[38;5;241m60\u001b[39m:\n\u001b[1;32m----> 4\u001b[0m         \u001b[38;5;28;01mraise\u001b[39;00m StudentAgeError(\u001b[38;5;124m'\u001b[39m\u001b[38;5;124mNot allowed the enter age\u001b[39m\u001b[38;5;124m'\u001b[39m)\n\u001b[0;32m      5\u001b[0m     \u001b[38;5;28mself\u001b[39m\u001b[38;5;241m.\u001b[39mrollnumber \u001b[38;5;241m=\u001b[39m rollnumber\n\u001b[0;32m      6\u001b[0m     \u001b[38;5;28mself\u001b[39m\u001b[38;5;241m.\u001b[39mname \u001b[38;5;241m=\u001b[39m name\n",
      "\u001b[1;31mStudentAgeError\u001b[0m: Not allowed the enter age"
     ]
    }
   ],
   "source": [
    "class StudentCard():\n",
    "    def __init__(self,rollnumber,name,age):\n",
    "        if age < 18 or age > 60:\n",
    "            raise StudentAgeError('Not allowed the enter age')\n",
    "        self.rollnumber = rollnumber\n",
    "        self.name = name\n",
    "        self.age = age\n",
    "class StudentAgeError(Exception):\n",
    "    pass\n",
    "s1 = StudentCard(45,'sohail', 44)\n",
    "print(s1.age,s1.name,s1.rollnumber)\n",
    "s2 = StudentCard(45,'sohail', 14)\n",
    "print(s2.age,s2.name,s2.rollnumber)\n",
    "\n",
    "         "
   ]
  },
  {
   "cell_type": "code",
   "execution_count": 34,
   "id": "7f7f50b3",
   "metadata": {},
   "outputs": [
    {
     "name": "stdout",
     "output_type": "stream",
     "text": [
      "44 sohail 45\n",
      "Something Wrong! Not allowed the enter age\n"
     ]
    }
   ],
   "source": [
    "class StudentCard():\n",
    "    def __init__(self,rollnumber,name,age):\n",
    "        if age < 18 or age > 60:\n",
    "            raise StudentAgeError('Not allowed the enter age')\n",
    "        self.rollnumber = rollnumber\n",
    "        self.name = name\n",
    "        self.age = age\n",
    "class StudentAgeError(Exception):\n",
    "    pass\n",
    "s1 = StudentCard(45,'sohail', 44)\n",
    "print(s1.age,s1.name,s1.rollnumber)\n",
    "try:\n",
    "    \n",
    "    s2 = StudentCard(45,'sohail', 14)\n",
    "    print(s2.age,s2.name,s2.rollnumber)\n",
    "except Exception as e:\n",
    "    print('Something Wrong!',e)\n",
    "\n"
   ]
  },
  {
   "cell_type": "code",
   "execution_count": null,
   "id": "50360106",
   "metadata": {},
   "outputs": [],
   "source": []
  }
 ],
 "metadata": {
  "kernelspec": {
   "display_name": "Python 3 (ipykernel)",
   "language": "python",
   "name": "python3"
  },
  "language_info": {
   "codemirror_mode": {
    "name": "ipython",
    "version": 3
   },
   "file_extension": ".py",
   "mimetype": "text/x-python",
   "name": "python",
   "nbconvert_exporter": "python",
   "pygments_lexer": "ipython3",
   "version": "3.9.12"
  }
 },
 "nbformat": 4,
 "nbformat_minor": 5
}
