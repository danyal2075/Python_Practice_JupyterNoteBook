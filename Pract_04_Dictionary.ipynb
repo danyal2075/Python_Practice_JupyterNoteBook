{
 "cells": [
  {
   "cell_type": "markdown",
   "id": "e4990e62",
   "metadata": {},
   "source": [
    "# Dictionary : \n",
    "* Always start with { }\n",
    "* Key and values\n",
    "* : seperator between key and values\n",
    "* key should be int or string\n",
    "* values can be anything\n",
    "{\n",
    "    key1: value1,\n",
    "    key2: value2,\n",
    "    key3: value3,\n",
    "    \n",
    "}\n",
    "\n",
    "We use dictionary because to store tha data in meangingful form. The database uses Dictionary "
   ]
  },
  {
   "cell_type": "code",
   "execution_count": 4,
   "id": "4a9db2eb",
   "metadata": {},
   "outputs": [
    {
     "data": {
      "text/plain": [
       "{'Frist_Name': 'Sohail',\n",
       " 'Second_Name': 'Danyal',\n",
       " 'Education': 'Master',\n",
       " 'Age': 28,\n",
       " 'Skills ': ['AI', 'Web Dev', 'Data Science']}"
      ]
     },
     "execution_count": 4,
     "metadata": {},
     "output_type": "execute_result"
    }
   ],
   "source": [
    "data = {\n",
    "    'Frist_Name': 'Sohail',\n",
    "    'Second_Name' : 'Danyal',\n",
    "    'Education' : 'Master',\n",
    "    'Age' : 28,\n",
    "    'Skills ' : ['AI', 'Web Dev', 'Data Science']\n",
    "}\n",
    "data"
   ]
  },
  {
   "cell_type": "markdown",
   "id": "fe0dd116",
   "metadata": {},
   "source": [
    "# How to access values from Dic\n",
    " \n",
    " * DictName['Key'] "
   ]
  },
  {
   "cell_type": "code",
   "execution_count": 34,
   "id": "4a2ffd22",
   "metadata": {},
   "outputs": [
    {
     "name": "stdout",
     "output_type": "stream",
     "text": [
      "[28, 23]\n",
      "['Master', 'Bsc', 'Fsc']\n",
      "['AI', 'ML']\n",
      "Pakistan\n"
     ]
    },
    {
     "data": {
      "text/plain": [
       "{'Frist_Name': 'Sohail',\n",
       " 'Second_Name': 'Hamza',\n",
       " 'Education': ['Master', 'Bsc', 'Fsc'],\n",
       " 'skill': ['AI', 'ML'],\n",
       " 'Age': [28, 23],\n",
       " 0: 'Pakistan'}"
      ]
     },
     "execution_count": 34,
     "metadata": {},
     "output_type": "execute_result"
    }
   ],
   "source": [
    "data = {\n",
    "    'Frist_Name': 'Sohail',\n",
    "    'Second_Name' : 'Danyal',\n",
    "    'Education' : ['Master','Bsc','Fsc'],\n",
    "    'skill' : ['AI', 'ML'],\n",
    "    'Age' : [28,23] ,\n",
    "    0 : 'Pakistan'\n",
    "}\n",
    "print(data['Age'])\n",
    "print(data[\"Education\"])\n",
    "print(data[\"skill\"])\n",
    "print(data[0])\n",
    "data['Second_Name'] = 'Hamza'\n",
    "data\n"
   ]
  },
  {
   "cell_type": "code",
   "execution_count": 15,
   "id": "17b1c3cd",
   "metadata": {},
   "outputs": [
    {
     "name": "stdout",
     "output_type": "stream",
     "text": [
      "Master\n"
     ]
    }
   ],
   "source": [
    "print(data['Education'])"
   ]
  },
  {
   "cell_type": "markdown",
   "id": "fc8c0bce",
   "metadata": {},
   "source": [
    "# Saving Dict as Tabular form"
   ]
  },
  {
   "cell_type": "code",
   "execution_count": 19,
   "id": "c7fd35c2",
   "metadata": {},
   "outputs": [
    {
     "data": {
      "text/html": [
       "<div>\n",
       "<style scoped>\n",
       "    .dataframe tbody tr th:only-of-type {\n",
       "        vertical-align: middle;\n",
       "    }\n",
       "\n",
       "    .dataframe tbody tr th {\n",
       "        vertical-align: top;\n",
       "    }\n",
       "\n",
       "    .dataframe thead th {\n",
       "        text-align: right;\n",
       "    }\n",
       "</style>\n",
       "<table border=\"1\" class=\"dataframe\">\n",
       "  <thead>\n",
       "    <tr style=\"text-align: right;\">\n",
       "      <th></th>\n",
       "      <th>Name</th>\n",
       "      <th>Father_Name</th>\n",
       "      <th>Couses</th>\n",
       "    </tr>\n",
       "  </thead>\n",
       "  <tbody>\n",
       "    <tr>\n",
       "      <th>0</th>\n",
       "      <td>Sohail</td>\n",
       "      <td>Zaman</td>\n",
       "      <td>AI</td>\n",
       "    </tr>\n",
       "    <tr>\n",
       "      <th>1</th>\n",
       "      <td>Danyal</td>\n",
       "      <td>Zaman</td>\n",
       "      <td>ML</td>\n",
       "    </tr>\n",
       "    <tr>\n",
       "      <th>2</th>\n",
       "      <td>Hamza</td>\n",
       "      <td>Qamar</td>\n",
       "      <td>DS</td>\n",
       "    </tr>\n",
       "  </tbody>\n",
       "</table>\n",
       "</div>"
      ],
      "text/plain": [
       "     Name Father_Name Couses\n",
       "0  Sohail       Zaman     AI\n",
       "1  Danyal       Zaman     ML\n",
       "2   Hamza       Qamar     DS"
      ]
     },
     "execution_count": 19,
     "metadata": {},
     "output_type": "execute_result"
    }
   ],
   "source": [
    "import pandas as pd\n",
    "data1 = {\n",
    "    'Name':['Sohail', 'Danyal', 'Hamza'],\n",
    "    'Father_Name' : ['Zaman', 'Zaman', 'Qamar'],\n",
    "    'Couses' : ['AI', 'ML', 'DS']\n",
    "    \n",
    "    \n",
    "}\n",
    "dat = pd.DataFrame(data1)\n",
    "dat"
   ]
  },
  {
   "cell_type": "markdown",
   "id": "09559aa9",
   "metadata": {},
   "source": [
    "# Adding Values to the Dict"
   ]
  },
  {
   "cell_type": "code",
   "execution_count": 44,
   "id": "0e9f04e4",
   "metadata": {},
   "outputs": [
    {
     "name": "stdout",
     "output_type": "stream",
     "text": [
      "Orginal_DIC :  {'name': 'sohail', 'fname': 'Qamar', 'Edu': 'Ms'}\n",
      "Name_Value_Changed  {'name': 'SOHAIL', 'fname': 'Qamar', 'Edu': 'Ms'}\n",
      "Concatenated_DICT :  {'name': 'SOHAIL', 'fname': 'Qamar', 'Edu': 'Ms', ' name': 'SOHAIL AI student'}\n"
     ]
    }
   ],
   "source": [
    "data2 = {}\n",
    "data2['name'] = 'sohail'\n",
    "data2['fname'] = 'Qamar'\n",
    "data2['Edu'] = 'Ms'\n",
    "print('Orginal_DIC : ', data2)\n",
    "data2['name'] = 'SOHAIL'\n",
    "print('Name_Value_Changed ',data2)\n",
    "data2[' name'] = data2['name'] + \" AI student\"\n",
    "print( 'Concatenated_DICT : ', data2)\n"
   ]
  },
  {
   "cell_type": "code",
   "execution_count": 45,
   "id": "fa02ad56",
   "metadata": {},
   "outputs": [
    {
     "data": {
      "text/plain": [
       "['__class__',\n",
       " '__class_getitem__',\n",
       " '__contains__',\n",
       " '__delattr__',\n",
       " '__delitem__',\n",
       " '__dir__',\n",
       " '__doc__',\n",
       " '__eq__',\n",
       " '__format__',\n",
       " '__ge__',\n",
       " '__getattribute__',\n",
       " '__getitem__',\n",
       " '__gt__',\n",
       " '__hash__',\n",
       " '__init__',\n",
       " '__init_subclass__',\n",
       " '__ior__',\n",
       " '__iter__',\n",
       " '__le__',\n",
       " '__len__',\n",
       " '__lt__',\n",
       " '__ne__',\n",
       " '__new__',\n",
       " '__or__',\n",
       " '__reduce__',\n",
       " '__reduce_ex__',\n",
       " '__repr__',\n",
       " '__reversed__',\n",
       " '__ror__',\n",
       " '__setattr__',\n",
       " '__setitem__',\n",
       " '__sizeof__',\n",
       " '__str__',\n",
       " '__subclasshook__',\n",
       " 'clear',\n",
       " 'copy',\n",
       " 'fromkeys',\n",
       " 'get',\n",
       " 'items',\n",
       " 'keys',\n",
       " 'pop',\n",
       " 'popitem',\n",
       " 'setdefault',\n",
       " 'update',\n",
       " 'values']"
      ]
     },
     "execution_count": 45,
     "metadata": {},
     "output_type": "execute_result"
    }
   ],
   "source": [
    "dir(data2)"
   ]
  },
  {
   "cell_type": "markdown",
   "id": "42ec4618",
   "metadata": {},
   "source": [
    "# .clear ; how to empty the dict"
   ]
  },
  {
   "cell_type": "code",
   "execution_count": 48,
   "id": "5eb5b5d5",
   "metadata": {},
   "outputs": [
    {
     "name": "stdout",
     "output_type": "stream",
     "text": [
      "{'Frist_Name': 'Sohail', 'Second_Name': 'Danyal', 'Education': ['Master', 'Bsc', 'Fsc'], 'skill': ['AI', 'ML'], 'Age': [28, 23], 0: 'Pakistan'}\n",
      "{}\n"
     ]
    }
   ],
   "source": [
    "data4 = {\n",
    "    'Frist_Name': 'Sohail',\n",
    "    'Second_Name' : 'Danyal',\n",
    "    'Education' : ['Master','Bsc','Fsc'],\n",
    "    'skill' : ['AI', 'ML'],\n",
    "    'Age' : [28,23] ,\n",
    "    0 : 'Pakistan'\n",
    "}\n",
    "print(data4)\n",
    "data4.clear()\n",
    "print(data4)"
   ]
  },
  {
   "cell_type": "markdown",
   "id": "748d272c",
   "metadata": {},
   "source": [
    "# .copy()  : how to copy the dcit   (Deep and shallow copy)"
   ]
  },
  {
   "cell_type": "code",
   "execution_count": 49,
   "id": "cd01cb7e",
   "metadata": {},
   "outputs": [
    {
     "name": "stdout",
     "output_type": "stream",
     "text": [
      "{'Frist_Name': 'Sohail', 'Second_Name': 'Danyal', 'Education': ['Master', 'Bsc', 'Fsc'], 'skill': ['AI', 'ML'], 'Age': [28, 23], 0: 'Pakistan'}\n"
     ]
    }
   ],
   "source": [
    "data5 = {\n",
    "    'Frist_Name': 'Sohail',\n",
    "    'Second_Name' : 'Danyal',\n",
    "    'Education' : ['Master','Bsc','Fsc'],\n",
    "    'skill' : ['AI', 'ML'],\n",
    "    'Age' : [28,23] ,\n",
    "    0 : 'Pakistan'\n",
    "}\n",
    "data6 = data5.copy()\n",
    "print(data6)"
   ]
  },
  {
   "cell_type": "markdown",
   "id": "1b4cb270",
   "metadata": {},
   "source": [
    "# from keys"
   ]
  },
  {
   "cell_type": "code",
   "execution_count": 1,
   "id": "12defe9f",
   "metadata": {},
   "outputs": [
    {
     "data": {
      "text/plain": [
       "<function dict.fromkeys(iterable, value=None, /)>"
      ]
     },
     "execution_count": 1,
     "metadata": {},
     "output_type": "execute_result"
    }
   ],
   "source": [
    "data7 = {\n",
    "    'Frist_Name': 'Sohail',\n",
    "    'Second_Name' : 'Danyal',\n",
    "    'Education' : ['Master','Bsc','Fsc'],\n",
    "    'skill' : ['AI', 'ML'],\n",
    "    'Age' : [28,23] ,\n",
    "    0 : 'Pakistan'\n",
    "}\n",
    "dict.fromkeys \n"
   ]
  },
  {
   "cell_type": "markdown",
   "id": "bdc5b66f",
   "metadata": {},
   "source": [
    "# Get : it is used to not get any error although the key is not present. We can pass certain output"
   ]
  },
  {
   "cell_type": "code",
   "execution_count": 10,
   "id": "a43dab80",
   "metadata": {},
   "outputs": [
    {
     "name": "stdout",
     "output_type": "stream",
     "text": [
      "Sohail\n",
      "not avaible\n"
     ]
    }
   ],
   "source": [
    "data8 = {\n",
    "    'Frist_Name': 'Sohail',\n",
    "    'Second_Name' : 'Danyal',\n",
    "    'Education' : ['Master','Bsc','Fsc'],\n",
    "    'skill' : ['AI', 'ML'],\n",
    "    'Age' : [28,23] ,\n",
    "    0 : 'Pakistan'\n",
    "}\n",
    "print(data8.get('Frist_Name'))\n",
    "print(data8.get('Name', 'not avaible'))"
   ]
  },
  {
   "cell_type": "code",
   "execution_count": 16,
   "id": "acf62cbf",
   "metadata": {},
   "outputs": [
    {
     "name": "stdout",
     "output_type": "stream",
     "text": [
      "Items Output :  dict_items([('Frist_Name', 'Sohail'), ('Second_Name', 'Danyal'), ('Education', ['Master', 'Bsc', 'Fsc']), ('skill', ['AI', 'ML']), ('Age', [28, 23]), (0, 'Pakistan')])\n",
      "keys Output :  dict_keys(['Frist_Name', 'Second_Name', 'Education', 'skill', 'Age', 0])\n",
      "values Output :  dict_values(['Sohail', 'Danyal', ['Master', 'Bsc', 'Fsc'], ['AI', 'ML'], [28, 23], 'Pakistan'])\n"
     ]
    }
   ],
   "source": [
    "data9 = {\n",
    "    'Frist_Name': 'Sohail',\n",
    "    'Second_Name' : 'Danyal',\n",
    "    'Education' : ['Master','Bsc','Fsc'],\n",
    "    'skill' : ['AI', 'ML'],\n",
    "    'Age' : [28,23] ,\n",
    "    0 : 'Pakistan'\n",
    "}\n",
    "print('Items Output : ',data9.items())\n",
    "print('keys Output : ', data9.keys())\n",
    "print('values Output : ', data9.values())"
   ]
  },
  {
   "cell_type": "code",
   "execution_count": 26,
   "id": "4dbe3ecf",
   "metadata": {},
   "outputs": [
    {
     "name": "stdout",
     "output_type": "stream",
     "text": [
      "values Output : \n",
      "Sohail\n",
      "Danyal\n",
      "['Master', 'Bsc', 'Fsc']\n",
      "['AI', 'ML']\n",
      "[28, 23]\n",
      "Pakistan\n",
      "keys Output : \n",
      "Frist_Name\n",
      "Second_Name\n",
      "Education\n",
      "skill\n",
      "Age\n",
      "0\n",
      "items Output : \n",
      "Frist_Name Sohail\n",
      "Second_Name Danyal\n",
      "Education ['Master', 'Bsc', 'Fsc']\n",
      "skill ['AI', 'ML']\n",
      "Age [28, 23]\n",
      "0 Pakistan\n"
     ]
    }
   ],
   "source": [
    "data10 = {\n",
    "    'Frist_Name': 'Sohail',\n",
    "    'Second_Name' : 'Danyal',\n",
    "    'Education' : ['Master','Bsc','Fsc'],\n",
    "    'skill' : ['AI', 'ML'],\n",
    "    'Age' : [28,23] ,\n",
    "    0 : 'Pakistan'\n",
    "}\n",
    "print('values Output : ')\n",
    "for i in data10.values():\n",
    "    print(i)\n",
    "print('keys Output : ')\n",
    "for i in data10.keys():\n",
    "    print(i)\n",
    "print('items Output : ')\n",
    "for i, k in data10.items():\n",
    "    print(i, k)"
   ]
  },
  {
   "cell_type": "code",
   "execution_count": 25,
   "id": "0fe3c5c7",
   "metadata": {},
   "outputs": [
    {
     "name": "stdout",
     "output_type": "stream",
     "text": [
      "[28, 23]\n",
      "Pakistan\n"
     ]
    }
   ],
   "source": [
    "for i in ['Age', 0]:\n",
    "    print( data10[i])"
   ]
  },
  {
   "cell_type": "markdown",
   "id": "27de170b",
   "metadata": {},
   "source": [
    "# pop :  it del the key but keep the value of that key"
   ]
  },
  {
   "cell_type": "code",
   "execution_count": 45,
   "id": "a5866128",
   "metadata": {},
   "outputs": [
    {
     "name": "stdout",
     "output_type": "stream",
     "text": [
      "{'Second_Name': 'Danyal', 'Education': ['Master', 'Bsc', 'Fsc'], 'skill': ['AI', 'ML'], 'Age': [28, 23], 0: 'Pakistan'}\n",
      "['Sohail']\n"
     ]
    }
   ],
   "source": [
    "import pandas as pd\n",
    "data11 = {\n",
    "    'Frist_Name': 'Sohail',\n",
    "    'Second_Name' : 'Danyal',\n",
    "    'Education' : ['Master','Bsc','Fsc'],\n",
    "    'skill' : ['AI', 'ML'],\n",
    "    'Age' : [28,23] ,\n",
    "    0 : 'Pakistan'\n",
    "}\n",
    "b = []\n",
    "a = data11.pop('Frist_Name')\n",
    "print(data11)\n",
    "b.append(a)\n",
    "print(b)"
   ]
  },
  {
   "cell_type": "code",
   "execution_count": 46,
   "id": "27fa1be4",
   "metadata": {},
   "outputs": [
    {
     "name": "stdout",
     "output_type": "stream",
     "text": [
      "     Name  age Edu\n",
      "0  sohail   28  Ms\n",
      "1  danyal   29  MS\n",
      "2   hamza   22  BS\n"
     ]
    }
   ],
   "source": [
    "dataa ={\n",
    "    'Name' : ['sohail','danyal', 'hamza'],\n",
    "    'age' : [28,29, 22],\n",
    "    'Edu' : ['Ms', 'MS', 'BS']\n",
    "}\n",
    "dat = pd.DataFrame(dataa)\n",
    "print(dat)"
   ]
  },
  {
   "cell_type": "code",
   "execution_count": null,
   "id": "4d1391b9",
   "metadata": {},
   "outputs": [],
   "source": [
    "\n"
   ]
  }
 ],
 "metadata": {
  "kernelspec": {
   "display_name": "Python 3 (ipykernel)",
   "language": "python",
   "name": "python3"
  },
  "language_info": {
   "codemirror_mode": {
    "name": "ipython",
    "version": 3
   },
   "file_extension": ".py",
   "mimetype": "text/x-python",
   "name": "python",
   "nbconvert_exporter": "python",
   "pygments_lexer": "ipython3",
   "version": "3.9.12"
  }
 },
 "nbformat": 4,
 "nbformat_minor": 5
}
