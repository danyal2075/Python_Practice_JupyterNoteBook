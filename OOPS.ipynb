{
 "cells": [
  {
   "cell_type": "markdown",
   "id": "87f17325",
   "metadata": {},
   "source": [
    "# OOP"
   ]
  },
  {
   "cell_type": "markdown",
   "id": "0481460f",
   "metadata": {},
   "source": [
    "* Methods (Function) : Methods are usually actions\n",
    "* Attributes(Properties) :  "
   ]
  },
  {
   "cell_type": "markdown",
   "id": "a772f37f",
   "metadata": {},
   "source": [
    "# Class"
   ]
  },
  {
   "cell_type": "markdown",
   "id": "007cb445",
   "metadata": {},
   "source": [
    "* Blue Print  "
   ]
  },
  {
   "cell_type": "code",
   "execution_count": 47,
   "id": "31ba6e55",
   "metadata": {},
   "outputs": [],
   "source": [
    "class StudentEnrollment():\n",
    "    counter  = 0\n",
    "    subject  = 'Artificial Intelligence'\n",
    "    \n",
    "    def __init__(self, sid, sname):\n",
    "        self.id = sid\n",
    "        self.name = sname\n",
    "        self.education = None\n",
    "        self.address = None\n",
    "        self.age = None\n",
    "        self.username = sname\n",
    "        self.password = '123'\n",
    "        StudentEnrollment.counter +=1\n",
    "            \n",
    "    def login(self,user,pws):\n",
    "        if self.username == user and self.password == pws:\n",
    "            return \"Valid User\"\n",
    "        else:\n",
    "            return 'Not Valid User'\n",
    "        \n",
    "    def display_info(self ):\n",
    "        card = f\"\"\"\n",
    "        PIAIC Student Card\n",
    "        Registration No: {self.id}\n",
    "        Name : {self.name}\n",
    "        Education : {self.education}\n",
    "        \n",
    "        \"\"\"\n",
    "        return card\n",
    "            "
   ]
  },
  {
   "cell_type": "code",
   "execution_count": 48,
   "id": "3c0cb458",
   "metadata": {},
   "outputs": [
    {
     "name": "stdout",
     "output_type": "stream",
     "text": [
      "Sohail Danyal 15302\n",
      "Hamza Mehran 15303\n",
      "Muhammad Zakriya 15304\n"
     ]
    }
   ],
   "source": [
    "s1 = StudentEnrollment(15302, 'Sohail Danyal' )\n",
    "s2 = StudentEnrollment(15303, 'Hamza Mehran' )\n",
    "s3 = StudentEnrollment(15304, 'Muhammad Zakriya' )\n",
    "print(s1.name, s1.id)\n",
    "print(s2.name, s2.id)\n",
    "print(s3.name, s3.id)\n"
   ]
  },
  {
   "cell_type": "code",
   "execution_count": 49,
   "id": "a163cbbd",
   "metadata": {},
   "outputs": [
    {
     "data": {
      "text/plain": [
       "'Valid User'"
      ]
     },
     "execution_count": 49,
     "metadata": {},
     "output_type": "execute_result"
    }
   ],
   "source": [
    "s1.login('Sohail Danyal', '123')"
   ]
  },
  {
   "cell_type": "code",
   "execution_count": 50,
   "id": "46f82431",
   "metadata": {},
   "outputs": [
    {
     "data": {
      "text/plain": [
       "'Not Valid User'"
      ]
     },
     "execution_count": 50,
     "metadata": {},
     "output_type": "execute_result"
    }
   ],
   "source": [
    "s2.login('Sohail Danyal', '123')"
   ]
  },
  {
   "cell_type": "code",
   "execution_count": 51,
   "id": "e9c44384",
   "metadata": {},
   "outputs": [],
   "source": [
    "s1.education = 'Master'"
   ]
  },
  {
   "cell_type": "code",
   "execution_count": 52,
   "id": "930f8b98",
   "metadata": {},
   "outputs": [
    {
     "name": "stdout",
     "output_type": "stream",
     "text": [
      "\n",
      "        PIAIC Student Card\n",
      "        Registration No: 15302\n",
      "        Name : Sohail Danyal\n",
      "        Education : Master\n",
      "        \n",
      "        \n"
     ]
    }
   ],
   "source": [
    "print(s1.display_info())\n"
   ]
  },
  {
   "cell_type": "code",
   "execution_count": 53,
   "id": "0c87edec",
   "metadata": {},
   "outputs": [
    {
     "name": "stdout",
     "output_type": "stream",
     "text": [
      "address\n",
      "age\n",
      "counter\n",
      "education\n",
      "id\n",
      "login\n",
      "name\n",
      "password\n",
      "subject\n",
      "username\n"
     ]
    }
   ],
   "source": [
    "for i in dir(s1): \n",
    "    if '_' not in i:\n",
    "        print(i)"
   ]
  },
  {
   "cell_type": "code",
   "execution_count": 54,
   "id": "798ee343",
   "metadata": {},
   "outputs": [
    {
     "data": {
      "text/plain": [
       "['address',\n",
       " 'age',\n",
       " 'counter',\n",
       " 'education',\n",
       " 'id',\n",
       " 'login',\n",
       " 'name',\n",
       " 'password',\n",
       " 'subject',\n",
       " 'username']"
      ]
     },
     "execution_count": 54,
     "metadata": {},
     "output_type": "execute_result"
    }
   ],
   "source": [
    "[i for i in dir(s1) if '_' not in i]"
   ]
  },
  {
   "cell_type": "code",
   "execution_count": 55,
   "id": "f7cdcc95",
   "metadata": {},
   "outputs": [],
   "source": [
    "# changing THE password for instance s1\n",
    "s1.password = 'abc1234'"
   ]
  },
  {
   "cell_type": "code",
   "execution_count": 56,
   "id": "06b40d4c",
   "metadata": {},
   "outputs": [
    {
     "data": {
      "text/plain": [
       "'Valid User'"
      ]
     },
     "execution_count": 56,
     "metadata": {},
     "output_type": "execute_result"
    }
   ],
   "source": [
    "s1.login('Sohail Danyal', 'abc1234')"
   ]
  },
  {
   "cell_type": "markdown",
   "id": "e932563c",
   "metadata": {},
   "source": [
    "# Class Variables"
   ]
  },
  {
   "cell_type": "code",
   "execution_count": 57,
   "id": "52e25c84",
   "metadata": {},
   "outputs": [
    {
     "name": "stdout",
     "output_type": "stream",
     "text": [
      "3\n",
      "Artificial Intelligence\n"
     ]
    }
   ],
   "source": [
    "print(StudentEnrollment.counter)\n",
    "print(StudentEnrollment.subject)\n",
    "\n"
   ]
  },
  {
   "cell_type": "code",
   "execution_count": null,
   "id": "cd005e74",
   "metadata": {},
   "outputs": [],
   "source": []
  }
 ],
 "metadata": {
  "kernelspec": {
   "display_name": "Python 3 (ipykernel)",
   "language": "python",
   "name": "python3"
  },
  "language_info": {
   "codemirror_mode": {
    "name": "ipython",
    "version": 3
   },
   "file_extension": ".py",
   "mimetype": "text/x-python",
   "name": "python",
   "nbconvert_exporter": "python",
   "pygments_lexer": "ipython3",
   "version": "3.9.12"
  }
 },
 "nbformat": 4,
 "nbformat_minor": 5
}
